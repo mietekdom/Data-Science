{
  "nbformat": 4,
  "nbformat_minor": 0,
  "metadata": {
    "colab": {
      "name": "Wytrzymałośc materiału_NBR1.ipynb",
      "provenance": [],
      "collapsed_sections": [],
      "authorship_tag": "ABX9TyMCzLCn6N6so/k/3itNJqa7",
      "include_colab_link": true
    },
    "kernelspec": {
      "name": "python3",
      "display_name": "Python 3"
    }
  },
  "cells": [
    {
      "cell_type": "markdown",
      "metadata": {
        "id": "view-in-github",
        "colab_type": "text"
      },
      "source": [
        "<a href=\"https://colab.research.google.com/github/mietekdom/Data-Science/blob/master/Stress_Strain_Analyses/Wytrzyma%C5%82o%C5%9Bc_materia%C5%82u_NBR1.ipynb\" target=\"_parent\"><img src=\"https://colab.research.google.com/assets/colab-badge.svg\" alt=\"Open In Colab\"/></a>"
      ]
    },
    {
      "cell_type": "code",
      "metadata": {
        "id": "6UGesbXcdiAC",
        "outputId": "188ba178-625f-4e01-b5d3-b23275b13f26",
        "colab": {
          "base_uri": "https://localhost:8080/",
          "height": 69
        }
      },
      "source": [
        "import pandas as pd\n",
        "import numpy as np\n",
        "import plotly\n",
        "import plotly.express as px\n",
        "\n",
        "\n",
        "print(f'Pandas: {pd.__version__}')\n",
        "print(f'Numpy: {np.__version__}')\n",
        "print(f'Ploty: {np.__version__}')"
      ],
      "execution_count": 36,
      "outputs": [
        {
          "output_type": "stream",
          "text": [
            "Pandas: 1.1.2\n",
            "Numpy: 1.18.5\n",
            "Ploty: 1.18.5\n"
          ],
          "name": "stdout"
        }
      ]
    },
    {
      "cell_type": "code",
      "metadata": {
        "id": "MrDs5I35dNEW",
        "outputId": "1322751e-ba1f-4d25-d6b8-c77353f6b021",
        "colab": {
          "base_uri": "https://localhost:8080/",
          "height": 238
        }
      },
      "source": [
        "df = pd.read_csv('./NBR1.csv', index_col=0)\n",
        "df.head()"
      ],
      "execution_count": 32,
      "outputs": [
        {
          "output_type": "execute_result",
          "data": {
            "text/html": [
              "<div>\n",
              "<style scoped>\n",
              "    .dataframe tbody tr th:only-of-type {\n",
              "        vertical-align: middle;\n",
              "    }\n",
              "\n",
              "    .dataframe tbody tr th {\n",
              "        vertical-align: top;\n",
              "    }\n",
              "\n",
              "    .dataframe thead th {\n",
              "        text-align: right;\n",
              "    }\n",
              "</style>\n",
              "<table border=\"1\" class=\"dataframe\">\n",
              "  <thead>\n",
              "    <tr style=\"text-align: right;\">\n",
              "      <th></th>\n",
              "      <th>C_0_Seconds[]</th>\n",
              "      <th>C_1_Cycle[]</th>\n",
              "      <th>C_1_Load[kN]</th>\n",
              "      <th>C_1_Stroke[mm]</th>\n",
              "    </tr>\n",
              "    <tr>\n",
              "      <th>S/No</th>\n",
              "      <th></th>\n",
              "      <th></th>\n",
              "      <th></th>\n",
              "      <th></th>\n",
              "    </tr>\n",
              "  </thead>\n",
              "  <tbody>\n",
              "    <tr>\n",
              "      <th>1</th>\n",
              "      <td>0.032938</td>\n",
              "      <td>0</td>\n",
              "      <td>0.020225</td>\n",
              "      <td>-0.002</td>\n",
              "    </tr>\n",
              "    <tr>\n",
              "      <th>2</th>\n",
              "      <td>0.033061</td>\n",
              "      <td>0</td>\n",
              "      <td>0.019436</td>\n",
              "      <td>-0.001</td>\n",
              "    </tr>\n",
              "    <tr>\n",
              "      <th>3</th>\n",
              "      <td>0.033185</td>\n",
              "      <td>0</td>\n",
              "      <td>0.019567</td>\n",
              "      <td>-0.001</td>\n",
              "    </tr>\n",
              "    <tr>\n",
              "      <th>4</th>\n",
              "      <td>0.033308</td>\n",
              "      <td>0</td>\n",
              "      <td>0.018994</td>\n",
              "      <td>-0.002</td>\n",
              "    </tr>\n",
              "    <tr>\n",
              "      <th>5</th>\n",
              "      <td>0.033431</td>\n",
              "      <td>0</td>\n",
              "      <td>0.019273</td>\n",
              "      <td>-0.002</td>\n",
              "    </tr>\n",
              "  </tbody>\n",
              "</table>\n",
              "</div>"
            ],
            "text/plain": [
              "      C_0_Seconds[]  C_1_Cycle[]  C_1_Load[kN]  C_1_Stroke[mm]\n",
              "S/No                                                          \n",
              "1          0.032938            0      0.020225          -0.002\n",
              "2          0.033061            0      0.019436          -0.001\n",
              "3          0.033185            0      0.019567          -0.001\n",
              "4          0.033308            0      0.018994          -0.002\n",
              "5          0.033431            0      0.019273          -0.002"
            ]
          },
          "metadata": {
            "tags": []
          },
          "execution_count": 32
        }
      ]
    },
    {
      "cell_type": "code",
      "metadata": {
        "id": "uev8NXxkm1L9",
        "outputId": "13aa1120-6d56-4e67-cb30-9edac138b05d",
        "colab": {
          "base_uri": "https://localhost:8080/",
          "height": 208
        }
      },
      "source": [
        "df.info()"
      ],
      "execution_count": 33,
      "outputs": [
        {
          "output_type": "stream",
          "text": [
            "<class 'pandas.core.frame.DataFrame'>\n",
            "Int64Index: 400035 entries, 1 to 400035\n",
            "Data columns (total 4 columns):\n",
            " #   Column          Non-Null Count   Dtype  \n",
            "---  ------          --------------   -----  \n",
            " 0   C_0_Seconds[]   400035 non-null  float64\n",
            " 1   C_1_Cycle[]     400035 non-null  int64  \n",
            " 2   C_1_Load[kN]    400035 non-null  float64\n",
            " 3   C_1_Stroke[mm]  400035 non-null  float64\n",
            "dtypes: float64(3), int64(1)\n",
            "memory usage: 15.3 MB\n"
          ],
          "name": "stdout"
        }
      ]
    },
    {
      "cell_type": "code",
      "metadata": {
        "id": "dvzzeblbhaB8"
      },
      "source": [
        "df.columns = ['Time [sec]', 'Cycle', 'Load [kN]', 'Stroke [mm]']"
      ],
      "execution_count": 34,
      "outputs": []
    },
    {
      "cell_type": "code",
      "metadata": {
        "id": "gtLFTovTmqQ0",
        "outputId": "ccb73fff-7712-4a99-eaad-76487f67c8ce",
        "colab": {
          "base_uri": "https://localhost:8080/",
          "height": 238
        }
      },
      "source": [
        "df.head()"
      ],
      "execution_count": 35,
      "outputs": [
        {
          "output_type": "execute_result",
          "data": {
            "text/html": [
              "<div>\n",
              "<style scoped>\n",
              "    .dataframe tbody tr th:only-of-type {\n",
              "        vertical-align: middle;\n",
              "    }\n",
              "\n",
              "    .dataframe tbody tr th {\n",
              "        vertical-align: top;\n",
              "    }\n",
              "\n",
              "    .dataframe thead th {\n",
              "        text-align: right;\n",
              "    }\n",
              "</style>\n",
              "<table border=\"1\" class=\"dataframe\">\n",
              "  <thead>\n",
              "    <tr style=\"text-align: right;\">\n",
              "      <th></th>\n",
              "      <th>Time [sec]</th>\n",
              "      <th>Cycle</th>\n",
              "      <th>Load [kN]</th>\n",
              "      <th>Stroke [mm]</th>\n",
              "    </tr>\n",
              "    <tr>\n",
              "      <th>S/No</th>\n",
              "      <th></th>\n",
              "      <th></th>\n",
              "      <th></th>\n",
              "      <th></th>\n",
              "    </tr>\n",
              "  </thead>\n",
              "  <tbody>\n",
              "    <tr>\n",
              "      <th>1</th>\n",
              "      <td>0.032938</td>\n",
              "      <td>0</td>\n",
              "      <td>0.020225</td>\n",
              "      <td>-0.002</td>\n",
              "    </tr>\n",
              "    <tr>\n",
              "      <th>2</th>\n",
              "      <td>0.033061</td>\n",
              "      <td>0</td>\n",
              "      <td>0.019436</td>\n",
              "      <td>-0.001</td>\n",
              "    </tr>\n",
              "    <tr>\n",
              "      <th>3</th>\n",
              "      <td>0.033185</td>\n",
              "      <td>0</td>\n",
              "      <td>0.019567</td>\n",
              "      <td>-0.001</td>\n",
              "    </tr>\n",
              "    <tr>\n",
              "      <th>4</th>\n",
              "      <td>0.033308</td>\n",
              "      <td>0</td>\n",
              "      <td>0.018994</td>\n",
              "      <td>-0.002</td>\n",
              "    </tr>\n",
              "    <tr>\n",
              "      <th>5</th>\n",
              "      <td>0.033431</td>\n",
              "      <td>0</td>\n",
              "      <td>0.019273</td>\n",
              "      <td>-0.002</td>\n",
              "    </tr>\n",
              "  </tbody>\n",
              "</table>\n",
              "</div>"
            ],
            "text/plain": [
              "      Time [sec]  Cycle  Load [kN]  Stroke [mm]\n",
              "S/No                                           \n",
              "1       0.032938      0   0.020225       -0.002\n",
              "2       0.033061      0   0.019436       -0.001\n",
              "3       0.033185      0   0.019567       -0.001\n",
              "4       0.033308      0   0.018994       -0.002\n",
              "5       0.033431      0   0.019273       -0.002"
            ]
          },
          "metadata": {
            "tags": []
          },
          "execution_count": 35
        }
      ]
    },
    {
      "cell_type": "code",
      "metadata": {
        "id": "fjYJmOCoogIO"
      },
      "source": [
        ""
      ],
      "execution_count": null,
      "outputs": []
    }
  ]
}