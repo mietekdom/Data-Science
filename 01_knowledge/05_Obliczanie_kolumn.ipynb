{
  "nbformat": 4,
  "nbformat_minor": 0,
  "metadata": {
    "colab": {
      "name": "06_Obliczanie_kolumn.ipynb",
      "provenance": [],
      "collapsed_sections": [],
      "authorship_tag": "ABX9TyO00xsyK6VTfl8AYDyRhlV6",
      "include_colab_link": true
    },
    "kernelspec": {
      "name": "python3",
      "display_name": "Python 3"
    }
  },
  "cells": [
    {
      "cell_type": "markdown",
      "metadata": {
        "id": "view-in-github",
        "colab_type": "text"
      },
      "source": [
        "<a href=\"https://colab.research.google.com/github/mietekdom/Data-Science/blob/master/01_knowledge/05_Obliczanie_kolumn.ipynb\" target=\"_parent\"><img src=\"https://colab.research.google.com/assets/colab-badge.svg\" alt=\"Open In Colab\"/></a>"
      ]
    },
    {
      "cell_type": "code",
      "metadata": {
        "id": "ovobGuc6w4SE",
        "colab_type": "code",
        "colab": {
          "base_uri": "https://localhost:8080/",
          "height": 52
        },
        "outputId": "dfddb8fc-0460-4505-c68e-a3db693edfc0"
      },
      "source": [
        "import pandas as pd\n",
        "import numpy as np\n",
        "print(f'Pandas: {pd.__version__}')\n",
        "print(f'Numpy: {np.__version__}')"
      ],
      "execution_count": 46,
      "outputs": [
        {
          "output_type": "stream",
          "text": [
            "Pandas: 1.0.5\n",
            "Numpy: 1.18.5\n"
          ],
          "name": "stdout"
        }
      ]
    },
    {
      "cell_type": "markdown",
      "metadata": {
        "id": "2vQDdK5PxU_S",
        "colab_type": "text"
      },
      "source": [
        "Zaczytywanie danych - firma Uber"
      ]
    },
    {
      "cell_type": "code",
      "metadata": {
        "id": "Ijq8m_VsxWyU",
        "colab_type": "code",
        "colab": {
          "base_uri": "https://localhost:8080/",
          "height": 225
        },
        "outputId": "ac835d5f-cdb4-4562-f593-6858617e98df"
      },
      "source": [
        "def fetch_financial_data(company='UBER'):\n",
        "    \"\"\"Pobiera dane dotyczące notowań spółek na giełdzie według symboli\n",
        "    na serwisie stooq.pl\"\"\"\n",
        "    import pandas_datareader.data as web\n",
        "    return web.DataReader(name=company, data_source='stooq')\n",
        "\n",
        "df = fetch_financial_data()\n",
        "df.info()"
      ],
      "execution_count": 47,
      "outputs": [
        {
          "output_type": "stream",
          "text": [
            "<class 'pandas.core.frame.DataFrame'>\n",
            "DatetimeIndex: 329 entries, 2020-08-27 to 2019-05-10\n",
            "Data columns (total 5 columns):\n",
            " #   Column  Non-Null Count  Dtype  \n",
            "---  ------  --------------  -----  \n",
            " 0   Open    329 non-null    float64\n",
            " 1   High    329 non-null    float64\n",
            " 2   Low     329 non-null    float64\n",
            " 3   Close   329 non-null    float64\n",
            " 4   Volume  329 non-null    int64  \n",
            "dtypes: float64(4), int64(1)\n",
            "memory usage: 15.4 KB\n"
          ],
          "name": "stdout"
        }
      ]
    },
    {
      "cell_type": "code",
      "metadata": {
        "id": "YAXtZ7Fjx4MY",
        "colab_type": "code",
        "colab": {
          "base_uri": "https://localhost:8080/",
          "height": 206
        },
        "outputId": "292ea9a4-f9fe-4565-9991-07a4647bcbd2"
      },
      "source": [
        "df.iloc[0:4, :]"
      ],
      "execution_count": 48,
      "outputs": [
        {
          "output_type": "execute_result",
          "data": {
            "text/html": [
              "<div>\n",
              "<style scoped>\n",
              "    .dataframe tbody tr th:only-of-type {\n",
              "        vertical-align: middle;\n",
              "    }\n",
              "\n",
              "    .dataframe tbody tr th {\n",
              "        vertical-align: top;\n",
              "    }\n",
              "\n",
              "    .dataframe thead th {\n",
              "        text-align: right;\n",
              "    }\n",
              "</style>\n",
              "<table border=\"1\" class=\"dataframe\">\n",
              "  <thead>\n",
              "    <tr style=\"text-align: right;\">\n",
              "      <th></th>\n",
              "      <th>Open</th>\n",
              "      <th>High</th>\n",
              "      <th>Low</th>\n",
              "      <th>Close</th>\n",
              "      <th>Volume</th>\n",
              "    </tr>\n",
              "    <tr>\n",
              "      <th>Date</th>\n",
              "      <th></th>\n",
              "      <th></th>\n",
              "      <th></th>\n",
              "      <th></th>\n",
              "      <th></th>\n",
              "    </tr>\n",
              "  </thead>\n",
              "  <tbody>\n",
              "    <tr>\n",
              "      <th>2020-08-27</th>\n",
              "      <td>32.40</td>\n",
              "      <td>33.07</td>\n",
              "      <td>32.27</td>\n",
              "      <td>32.80</td>\n",
              "      <td>21306491</td>\n",
              "    </tr>\n",
              "    <tr>\n",
              "      <th>2020-08-26</th>\n",
              "      <td>31.01</td>\n",
              "      <td>32.71</td>\n",
              "      <td>30.95</td>\n",
              "      <td>32.30</td>\n",
              "      <td>20599776</td>\n",
              "    </tr>\n",
              "    <tr>\n",
              "      <th>2020-08-25</th>\n",
              "      <td>31.04</td>\n",
              "      <td>31.19</td>\n",
              "      <td>30.60</td>\n",
              "      <td>31.19</td>\n",
              "      <td>10056762</td>\n",
              "    </tr>\n",
              "    <tr>\n",
              "      <th>2020-08-24</th>\n",
              "      <td>30.97</td>\n",
              "      <td>31.30</td>\n",
              "      <td>30.37</td>\n",
              "      <td>31.04</td>\n",
              "      <td>17406239</td>\n",
              "    </tr>\n",
              "  </tbody>\n",
              "</table>\n",
              "</div>"
            ],
            "text/plain": [
              "             Open   High    Low  Close    Volume\n",
              "Date                                            \n",
              "2020-08-27  32.40  33.07  32.27  32.80  21306491\n",
              "2020-08-26  31.01  32.71  30.95  32.30  20599776\n",
              "2020-08-25  31.04  31.19  30.60  31.19  10056762\n",
              "2020-08-24  30.97  31.30  30.37  31.04  17406239"
            ]
          },
          "metadata": {
            "tags": []
          },
          "execution_count": 48
        }
      ]
    },
    {
      "cell_type": "code",
      "metadata": {
        "id": "B1W7fOQ1yMIb",
        "colab_type": "code",
        "colab": {
          "base_uri": "https://localhost:8080/",
          "height": 300
        },
        "outputId": "1286c8b9-a32a-42e2-9e22-e3c9912ad25a"
      },
      "source": [
        "df.describe() # ogólna statystyka do danych"
      ],
      "execution_count": 49,
      "outputs": [
        {
          "output_type": "execute_result",
          "data": {
            "text/html": [
              "<div>\n",
              "<style scoped>\n",
              "    .dataframe tbody tr th:only-of-type {\n",
              "        vertical-align: middle;\n",
              "    }\n",
              "\n",
              "    .dataframe tbody tr th {\n",
              "        vertical-align: top;\n",
              "    }\n",
              "\n",
              "    .dataframe thead th {\n",
              "        text-align: right;\n",
              "    }\n",
              "</style>\n",
              "<table border=\"1\" class=\"dataframe\">\n",
              "  <thead>\n",
              "    <tr style=\"text-align: right;\">\n",
              "      <th></th>\n",
              "      <th>Open</th>\n",
              "      <th>High</th>\n",
              "      <th>Low</th>\n",
              "      <th>Close</th>\n",
              "      <th>Volume</th>\n",
              "    </tr>\n",
              "  </thead>\n",
              "  <tbody>\n",
              "    <tr>\n",
              "      <th>count</th>\n",
              "      <td>329.000000</td>\n",
              "      <td>329.000000</td>\n",
              "      <td>329.000000</td>\n",
              "      <td>329.00000</td>\n",
              "      <td>3.290000e+02</td>\n",
              "    </tr>\n",
              "    <tr>\n",
              "      <th>mean</th>\n",
              "      <td>33.772944</td>\n",
              "      <td>34.451718</td>\n",
              "      <td>32.961282</td>\n",
              "      <td>33.72924</td>\n",
              "      <td>2.506019e+07</td>\n",
              "    </tr>\n",
              "    <tr>\n",
              "      <th>std</th>\n",
              "      <td>5.743001</td>\n",
              "      <td>5.677277</td>\n",
              "      <td>5.758421</td>\n",
              "      <td>5.68188</td>\n",
              "      <td>2.037883e+07</td>\n",
              "    </tr>\n",
              "    <tr>\n",
              "      <th>min</th>\n",
              "      <td>15.960000</td>\n",
              "      <td>17.800000</td>\n",
              "      <td>13.710000</td>\n",
              "      <td>14.82000</td>\n",
              "      <td>3.380003e+06</td>\n",
              "    </tr>\n",
              "    <tr>\n",
              "      <th>25%</th>\n",
              "      <td>30.000000</td>\n",
              "      <td>30.420000</td>\n",
              "      <td>29.360000</td>\n",
              "      <td>30.05000</td>\n",
              "      <td>1.033152e+07</td>\n",
              "    </tr>\n",
              "    <tr>\n",
              "      <th>50%</th>\n",
              "      <td>32.710000</td>\n",
              "      <td>33.300000</td>\n",
              "      <td>31.900000</td>\n",
              "      <td>32.68000</td>\n",
              "      <td>2.097652e+07</td>\n",
              "    </tr>\n",
              "    <tr>\n",
              "      <th>75%</th>\n",
              "      <td>37.500000</td>\n",
              "      <td>37.900000</td>\n",
              "      <td>36.530000</td>\n",
              "      <td>37.04000</td>\n",
              "      <td>3.291258e+07</td>\n",
              "    </tr>\n",
              "    <tr>\n",
              "      <th>max</th>\n",
              "      <td>46.980000</td>\n",
              "      <td>47.080000</td>\n",
              "      <td>45.080000</td>\n",
              "      <td>46.38000</td>\n",
              "      <td>1.863225e+08</td>\n",
              "    </tr>\n",
              "  </tbody>\n",
              "</table>\n",
              "</div>"
            ],
            "text/plain": [
              "             Open        High         Low      Close        Volume\n",
              "count  329.000000  329.000000  329.000000  329.00000  3.290000e+02\n",
              "mean    33.772944   34.451718   32.961282   33.72924  2.506019e+07\n",
              "std      5.743001    5.677277    5.758421    5.68188  2.037883e+07\n",
              "min     15.960000   17.800000   13.710000   14.82000  3.380003e+06\n",
              "25%     30.000000   30.420000   29.360000   30.05000  1.033152e+07\n",
              "50%     32.710000   33.300000   31.900000   32.68000  2.097652e+07\n",
              "75%     37.500000   37.900000   36.530000   37.04000  3.291258e+07\n",
              "max     46.980000   47.080000   45.080000   46.38000  1.863225e+08"
            ]
          },
          "metadata": {
            "tags": []
          },
          "execution_count": 49
        }
      ]
    },
    {
      "cell_type": "code",
      "metadata": {
        "id": "UYMoSYXryhVn",
        "colab_type": "code",
        "colab": {
          "base_uri": "https://localhost:8080/",
          "height": 238
        },
        "outputId": "a85a9afe-8d05-4f30-b972-9ca68186e6e7"
      },
      "source": [
        "df['Average'] = (df.Open + df.Close) / 2 #dodajemy nową kolumnę (średnia z Open i Close)\n",
        "df.head()"
      ],
      "execution_count": 50,
      "outputs": [
        {
          "output_type": "execute_result",
          "data": {
            "text/html": [
              "<div>\n",
              "<style scoped>\n",
              "    .dataframe tbody tr th:only-of-type {\n",
              "        vertical-align: middle;\n",
              "    }\n",
              "\n",
              "    .dataframe tbody tr th {\n",
              "        vertical-align: top;\n",
              "    }\n",
              "\n",
              "    .dataframe thead th {\n",
              "        text-align: right;\n",
              "    }\n",
              "</style>\n",
              "<table border=\"1\" class=\"dataframe\">\n",
              "  <thead>\n",
              "    <tr style=\"text-align: right;\">\n",
              "      <th></th>\n",
              "      <th>Open</th>\n",
              "      <th>High</th>\n",
              "      <th>Low</th>\n",
              "      <th>Close</th>\n",
              "      <th>Volume</th>\n",
              "      <th>Average</th>\n",
              "    </tr>\n",
              "    <tr>\n",
              "      <th>Date</th>\n",
              "      <th></th>\n",
              "      <th></th>\n",
              "      <th></th>\n",
              "      <th></th>\n",
              "      <th></th>\n",
              "      <th></th>\n",
              "    </tr>\n",
              "  </thead>\n",
              "  <tbody>\n",
              "    <tr>\n",
              "      <th>2020-08-27</th>\n",
              "      <td>32.40</td>\n",
              "      <td>33.07</td>\n",
              "      <td>32.2700</td>\n",
              "      <td>32.80</td>\n",
              "      <td>21306491</td>\n",
              "      <td>32.600</td>\n",
              "    </tr>\n",
              "    <tr>\n",
              "      <th>2020-08-26</th>\n",
              "      <td>31.01</td>\n",
              "      <td>32.71</td>\n",
              "      <td>30.9500</td>\n",
              "      <td>32.30</td>\n",
              "      <td>20599776</td>\n",
              "      <td>31.655</td>\n",
              "    </tr>\n",
              "    <tr>\n",
              "      <th>2020-08-25</th>\n",
              "      <td>31.04</td>\n",
              "      <td>31.19</td>\n",
              "      <td>30.6000</td>\n",
              "      <td>31.19</td>\n",
              "      <td>10056762</td>\n",
              "      <td>31.115</td>\n",
              "    </tr>\n",
              "    <tr>\n",
              "      <th>2020-08-24</th>\n",
              "      <td>30.97</td>\n",
              "      <td>31.30</td>\n",
              "      <td>30.3700</td>\n",
              "      <td>31.04</td>\n",
              "      <td>17406239</td>\n",
              "      <td>31.005</td>\n",
              "    </tr>\n",
              "    <tr>\n",
              "      <th>2020-08-21</th>\n",
              "      <td>31.39</td>\n",
              "      <td>31.82</td>\n",
              "      <td>30.7144</td>\n",
              "      <td>30.83</td>\n",
              "      <td>20216997</td>\n",
              "      <td>31.110</td>\n",
              "    </tr>\n",
              "  </tbody>\n",
              "</table>\n",
              "</div>"
            ],
            "text/plain": [
              "             Open   High      Low  Close    Volume  Average\n",
              "Date                                                       \n",
              "2020-08-27  32.40  33.07  32.2700  32.80  21306491   32.600\n",
              "2020-08-26  31.01  32.71  30.9500  32.30  20599776   31.655\n",
              "2020-08-25  31.04  31.19  30.6000  31.19  10056762   31.115\n",
              "2020-08-24  30.97  31.30  30.3700  31.04  17406239   31.005\n",
              "2020-08-21  31.39  31.82  30.7144  30.83  20216997   31.110"
            ]
          },
          "metadata": {
            "tags": []
          },
          "execution_count": 50
        }
      ]
    },
    {
      "cell_type": "code",
      "metadata": {
        "id": "H8i5GLedy6-L",
        "colab_type": "code",
        "colab": {
          "base_uri": "https://localhost:8080/",
          "height": 238
        },
        "outputId": "cdc129a8-ef90-48f3-b129-4281ea115dc4"
      },
      "source": [
        "df = df.sort_index() # sortowanie wartości\n",
        "df.head()"
      ],
      "execution_count": 51,
      "outputs": [
        {
          "output_type": "execute_result",
          "data": {
            "text/html": [
              "<div>\n",
              "<style scoped>\n",
              "    .dataframe tbody tr th:only-of-type {\n",
              "        vertical-align: middle;\n",
              "    }\n",
              "\n",
              "    .dataframe tbody tr th {\n",
              "        vertical-align: top;\n",
              "    }\n",
              "\n",
              "    .dataframe thead th {\n",
              "        text-align: right;\n",
              "    }\n",
              "</style>\n",
              "<table border=\"1\" class=\"dataframe\">\n",
              "  <thead>\n",
              "    <tr style=\"text-align: right;\">\n",
              "      <th></th>\n",
              "      <th>Open</th>\n",
              "      <th>High</th>\n",
              "      <th>Low</th>\n",
              "      <th>Close</th>\n",
              "      <th>Volume</th>\n",
              "      <th>Average</th>\n",
              "    </tr>\n",
              "    <tr>\n",
              "      <th>Date</th>\n",
              "      <th></th>\n",
              "      <th></th>\n",
              "      <th></th>\n",
              "      <th></th>\n",
              "      <th></th>\n",
              "      <th></th>\n",
              "    </tr>\n",
              "  </thead>\n",
              "  <tbody>\n",
              "    <tr>\n",
              "      <th>2019-05-10</th>\n",
              "      <td>42.00</td>\n",
              "      <td>45.00</td>\n",
              "      <td>41.06</td>\n",
              "      <td>41.57</td>\n",
              "      <td>186322536</td>\n",
              "      <td>41.785</td>\n",
              "    </tr>\n",
              "    <tr>\n",
              "      <th>2019-05-13</th>\n",
              "      <td>38.79</td>\n",
              "      <td>39.24</td>\n",
              "      <td>36.08</td>\n",
              "      <td>37.10</td>\n",
              "      <td>79442420</td>\n",
              "      <td>37.945</td>\n",
              "    </tr>\n",
              "    <tr>\n",
              "      <th>2019-05-14</th>\n",
              "      <td>38.31</td>\n",
              "      <td>39.96</td>\n",
              "      <td>36.85</td>\n",
              "      <td>39.96</td>\n",
              "      <td>46661147</td>\n",
              "      <td>39.135</td>\n",
              "    </tr>\n",
              "    <tr>\n",
              "      <th>2019-05-15</th>\n",
              "      <td>39.37</td>\n",
              "      <td>41.88</td>\n",
              "      <td>38.95</td>\n",
              "      <td>41.29</td>\n",
              "      <td>36086065</td>\n",
              "      <td>40.330</td>\n",
              "    </tr>\n",
              "    <tr>\n",
              "      <th>2019-05-16</th>\n",
              "      <td>41.48</td>\n",
              "      <td>44.06</td>\n",
              "      <td>41.25</td>\n",
              "      <td>43.00</td>\n",
              "      <td>38115524</td>\n",
              "      <td>42.240</td>\n",
              "    </tr>\n",
              "  </tbody>\n",
              "</table>\n",
              "</div>"
            ],
            "text/plain": [
              "             Open   High    Low  Close     Volume  Average\n",
              "Date                                                      \n",
              "2019-05-10  42.00  45.00  41.06  41.57  186322536   41.785\n",
              "2019-05-13  38.79  39.24  36.08  37.10   79442420   37.945\n",
              "2019-05-14  38.31  39.96  36.85  39.96   46661147   39.135\n",
              "2019-05-15  39.37  41.88  38.95  41.29   36086065   40.330\n",
              "2019-05-16  41.48  44.06  41.25  43.00   38115524   42.240"
            ]
          },
          "metadata": {
            "tags": []
          },
          "execution_count": 51
        }
      ]
    },
    {
      "cell_type": "code",
      "metadata": {
        "id": "cuZkbwUwzRI1",
        "colab_type": "code",
        "colab": {
          "base_uri": "https://localhost:8080/",
          "height": 238
        },
        "outputId": "88ff871f-9196-4a16-b2af-5c71cfdbb4d5"
      },
      "source": [
        "df['Daily_Change'] = df[['Close']].shift(1) #przesuwamy wiersze o jeden\n",
        "df.head()"
      ],
      "execution_count": 52,
      "outputs": [
        {
          "output_type": "execute_result",
          "data": {
            "text/html": [
              "<div>\n",
              "<style scoped>\n",
              "    .dataframe tbody tr th:only-of-type {\n",
              "        vertical-align: middle;\n",
              "    }\n",
              "\n",
              "    .dataframe tbody tr th {\n",
              "        vertical-align: top;\n",
              "    }\n",
              "\n",
              "    .dataframe thead th {\n",
              "        text-align: right;\n",
              "    }\n",
              "</style>\n",
              "<table border=\"1\" class=\"dataframe\">\n",
              "  <thead>\n",
              "    <tr style=\"text-align: right;\">\n",
              "      <th></th>\n",
              "      <th>Open</th>\n",
              "      <th>High</th>\n",
              "      <th>Low</th>\n",
              "      <th>Close</th>\n",
              "      <th>Volume</th>\n",
              "      <th>Average</th>\n",
              "      <th>Daily_Change</th>\n",
              "    </tr>\n",
              "    <tr>\n",
              "      <th>Date</th>\n",
              "      <th></th>\n",
              "      <th></th>\n",
              "      <th></th>\n",
              "      <th></th>\n",
              "      <th></th>\n",
              "      <th></th>\n",
              "      <th></th>\n",
              "    </tr>\n",
              "  </thead>\n",
              "  <tbody>\n",
              "    <tr>\n",
              "      <th>2019-05-10</th>\n",
              "      <td>42.00</td>\n",
              "      <td>45.00</td>\n",
              "      <td>41.06</td>\n",
              "      <td>41.57</td>\n",
              "      <td>186322536</td>\n",
              "      <td>41.785</td>\n",
              "      <td>NaN</td>\n",
              "    </tr>\n",
              "    <tr>\n",
              "      <th>2019-05-13</th>\n",
              "      <td>38.79</td>\n",
              "      <td>39.24</td>\n",
              "      <td>36.08</td>\n",
              "      <td>37.10</td>\n",
              "      <td>79442420</td>\n",
              "      <td>37.945</td>\n",
              "      <td>41.57</td>\n",
              "    </tr>\n",
              "    <tr>\n",
              "      <th>2019-05-14</th>\n",
              "      <td>38.31</td>\n",
              "      <td>39.96</td>\n",
              "      <td>36.85</td>\n",
              "      <td>39.96</td>\n",
              "      <td>46661147</td>\n",
              "      <td>39.135</td>\n",
              "      <td>37.10</td>\n",
              "    </tr>\n",
              "    <tr>\n",
              "      <th>2019-05-15</th>\n",
              "      <td>39.37</td>\n",
              "      <td>41.88</td>\n",
              "      <td>38.95</td>\n",
              "      <td>41.29</td>\n",
              "      <td>36086065</td>\n",
              "      <td>40.330</td>\n",
              "      <td>39.96</td>\n",
              "    </tr>\n",
              "    <tr>\n",
              "      <th>2019-05-16</th>\n",
              "      <td>41.48</td>\n",
              "      <td>44.06</td>\n",
              "      <td>41.25</td>\n",
              "      <td>43.00</td>\n",
              "      <td>38115524</td>\n",
              "      <td>42.240</td>\n",
              "      <td>41.29</td>\n",
              "    </tr>\n",
              "  </tbody>\n",
              "</table>\n",
              "</div>"
            ],
            "text/plain": [
              "             Open   High    Low  Close     Volume  Average  Daily_Change\n",
              "Date                                                                    \n",
              "2019-05-10  42.00  45.00  41.06  41.57  186322536   41.785           NaN\n",
              "2019-05-13  38.79  39.24  36.08  37.10   79442420   37.945         41.57\n",
              "2019-05-14  38.31  39.96  36.85  39.96   46661147   39.135         37.10\n",
              "2019-05-15  39.37  41.88  38.95  41.29   36086065   40.330         39.96\n",
              "2019-05-16  41.48  44.06  41.25  43.00   38115524   42.240         41.29"
            ]
          },
          "metadata": {
            "tags": []
          },
          "execution_count": 52
        }
      ]
    },
    {
      "cell_type": "code",
      "metadata": {
        "id": "zXyKRLfg3z0o",
        "colab_type": "code",
        "colab": {
          "base_uri": "https://localhost:8080/",
          "height": 238
        },
        "outputId": "569b98bd-2442-48f8-8bf9-446d396037bf"
      },
      "source": [
        "df['Close_Shift'] = df['Close'].shift(1)\n",
        "df.head()"
      ],
      "execution_count": 55,
      "outputs": [
        {
          "output_type": "execute_result",
          "data": {
            "text/html": [
              "<div>\n",
              "<style scoped>\n",
              "    .dataframe tbody tr th:only-of-type {\n",
              "        vertical-align: middle;\n",
              "    }\n",
              "\n",
              "    .dataframe tbody tr th {\n",
              "        vertical-align: top;\n",
              "    }\n",
              "\n",
              "    .dataframe thead th {\n",
              "        text-align: right;\n",
              "    }\n",
              "</style>\n",
              "<table border=\"1\" class=\"dataframe\">\n",
              "  <thead>\n",
              "    <tr style=\"text-align: right;\">\n",
              "      <th></th>\n",
              "      <th>Open</th>\n",
              "      <th>High</th>\n",
              "      <th>Low</th>\n",
              "      <th>Close</th>\n",
              "      <th>Volume</th>\n",
              "      <th>Average</th>\n",
              "      <th>Daily_Change</th>\n",
              "      <th>Close_Shift</th>\n",
              "    </tr>\n",
              "    <tr>\n",
              "      <th>Date</th>\n",
              "      <th></th>\n",
              "      <th></th>\n",
              "      <th></th>\n",
              "      <th></th>\n",
              "      <th></th>\n",
              "      <th></th>\n",
              "      <th></th>\n",
              "      <th></th>\n",
              "    </tr>\n",
              "  </thead>\n",
              "  <tbody>\n",
              "    <tr>\n",
              "      <th>2019-05-10</th>\n",
              "      <td>42.00</td>\n",
              "      <td>45.00</td>\n",
              "      <td>41.06</td>\n",
              "      <td>41.57</td>\n",
              "      <td>186322536</td>\n",
              "      <td>41.785</td>\n",
              "      <td>NaN</td>\n",
              "      <td>NaN</td>\n",
              "    </tr>\n",
              "    <tr>\n",
              "      <th>2019-05-13</th>\n",
              "      <td>38.79</td>\n",
              "      <td>39.24</td>\n",
              "      <td>36.08</td>\n",
              "      <td>37.10</td>\n",
              "      <td>79442420</td>\n",
              "      <td>37.945</td>\n",
              "      <td>41.57</td>\n",
              "      <td>41.57</td>\n",
              "    </tr>\n",
              "    <tr>\n",
              "      <th>2019-05-14</th>\n",
              "      <td>38.31</td>\n",
              "      <td>39.96</td>\n",
              "      <td>36.85</td>\n",
              "      <td>39.96</td>\n",
              "      <td>46661147</td>\n",
              "      <td>39.135</td>\n",
              "      <td>37.10</td>\n",
              "      <td>37.10</td>\n",
              "    </tr>\n",
              "    <tr>\n",
              "      <th>2019-05-15</th>\n",
              "      <td>39.37</td>\n",
              "      <td>41.88</td>\n",
              "      <td>38.95</td>\n",
              "      <td>41.29</td>\n",
              "      <td>36086065</td>\n",
              "      <td>40.330</td>\n",
              "      <td>39.96</td>\n",
              "      <td>39.96</td>\n",
              "    </tr>\n",
              "    <tr>\n",
              "      <th>2019-05-16</th>\n",
              "      <td>41.48</td>\n",
              "      <td>44.06</td>\n",
              "      <td>41.25</td>\n",
              "      <td>43.00</td>\n",
              "      <td>38115524</td>\n",
              "      <td>42.240</td>\n",
              "      <td>41.29</td>\n",
              "      <td>41.29</td>\n",
              "    </tr>\n",
              "  </tbody>\n",
              "</table>\n",
              "</div>"
            ],
            "text/plain": [
              "             Open   High    Low  ...  Average  Daily_Change  Close_Shift\n",
              "Date                             ...                                    \n",
              "2019-05-10  42.00  45.00  41.06  ...   41.785           NaN          NaN\n",
              "2019-05-13  38.79  39.24  36.08  ...   37.945         41.57        41.57\n",
              "2019-05-14  38.31  39.96  36.85  ...   39.135         37.10        37.10\n",
              "2019-05-15  39.37  41.88  38.95  ...   40.330         39.96        39.96\n",
              "2019-05-16  41.48  44.06  41.25  ...   42.240         41.29        41.29\n",
              "\n",
              "[5 rows x 8 columns]"
            ]
          },
          "metadata": {
            "tags": []
          },
          "execution_count": 55
        }
      ]
    },
    {
      "cell_type": "code",
      "metadata": {
        "id": "UiXLghdbz_ju",
        "colab_type": "code",
        "colab": {
          "base_uri": "https://localhost:8080/",
          "height": 238
        },
        "outputId": "1ca13363-1837-4e39-cb40-70d9fa222310"
      },
      "source": [
        "df['Daily_Change'] = df.Close / df.Close_Shift -1 #dzienna zmiana procentowa\n",
        "df.head()"
      ],
      "execution_count": 56,
      "outputs": [
        {
          "output_type": "execute_result",
          "data": {
            "text/html": [
              "<div>\n",
              "<style scoped>\n",
              "    .dataframe tbody tr th:only-of-type {\n",
              "        vertical-align: middle;\n",
              "    }\n",
              "\n",
              "    .dataframe tbody tr th {\n",
              "        vertical-align: top;\n",
              "    }\n",
              "\n",
              "    .dataframe thead th {\n",
              "        text-align: right;\n",
              "    }\n",
              "</style>\n",
              "<table border=\"1\" class=\"dataframe\">\n",
              "  <thead>\n",
              "    <tr style=\"text-align: right;\">\n",
              "      <th></th>\n",
              "      <th>Open</th>\n",
              "      <th>High</th>\n",
              "      <th>Low</th>\n",
              "      <th>Close</th>\n",
              "      <th>Volume</th>\n",
              "      <th>Average</th>\n",
              "      <th>Daily_Change</th>\n",
              "      <th>Close_Shift</th>\n",
              "    </tr>\n",
              "    <tr>\n",
              "      <th>Date</th>\n",
              "      <th></th>\n",
              "      <th></th>\n",
              "      <th></th>\n",
              "      <th></th>\n",
              "      <th></th>\n",
              "      <th></th>\n",
              "      <th></th>\n",
              "      <th></th>\n",
              "    </tr>\n",
              "  </thead>\n",
              "  <tbody>\n",
              "    <tr>\n",
              "      <th>2019-05-10</th>\n",
              "      <td>42.00</td>\n",
              "      <td>45.00</td>\n",
              "      <td>41.06</td>\n",
              "      <td>41.57</td>\n",
              "      <td>186322536</td>\n",
              "      <td>41.785</td>\n",
              "      <td>NaN</td>\n",
              "      <td>NaN</td>\n",
              "    </tr>\n",
              "    <tr>\n",
              "      <th>2019-05-13</th>\n",
              "      <td>38.79</td>\n",
              "      <td>39.24</td>\n",
              "      <td>36.08</td>\n",
              "      <td>37.10</td>\n",
              "      <td>79442420</td>\n",
              "      <td>37.945</td>\n",
              "      <td>-0.107529</td>\n",
              "      <td>41.57</td>\n",
              "    </tr>\n",
              "    <tr>\n",
              "      <th>2019-05-14</th>\n",
              "      <td>38.31</td>\n",
              "      <td>39.96</td>\n",
              "      <td>36.85</td>\n",
              "      <td>39.96</td>\n",
              "      <td>46661147</td>\n",
              "      <td>39.135</td>\n",
              "      <td>0.077089</td>\n",
              "      <td>37.10</td>\n",
              "    </tr>\n",
              "    <tr>\n",
              "      <th>2019-05-15</th>\n",
              "      <td>39.37</td>\n",
              "      <td>41.88</td>\n",
              "      <td>38.95</td>\n",
              "      <td>41.29</td>\n",
              "      <td>36086065</td>\n",
              "      <td>40.330</td>\n",
              "      <td>0.033283</td>\n",
              "      <td>39.96</td>\n",
              "    </tr>\n",
              "    <tr>\n",
              "      <th>2019-05-16</th>\n",
              "      <td>41.48</td>\n",
              "      <td>44.06</td>\n",
              "      <td>41.25</td>\n",
              "      <td>43.00</td>\n",
              "      <td>38115524</td>\n",
              "      <td>42.240</td>\n",
              "      <td>0.041414</td>\n",
              "      <td>41.29</td>\n",
              "    </tr>\n",
              "  </tbody>\n",
              "</table>\n",
              "</div>"
            ],
            "text/plain": [
              "             Open   High    Low  ...  Average  Daily_Change  Close_Shift\n",
              "Date                             ...                                    \n",
              "2019-05-10  42.00  45.00  41.06  ...   41.785           NaN          NaN\n",
              "2019-05-13  38.79  39.24  36.08  ...   37.945     -0.107529        41.57\n",
              "2019-05-14  38.31  39.96  36.85  ...   39.135      0.077089        37.10\n",
              "2019-05-15  39.37  41.88  38.95  ...   40.330      0.033283        39.96\n",
              "2019-05-16  41.48  44.06  41.25  ...   42.240      0.041414        41.29\n",
              "\n",
              "[5 rows x 8 columns]"
            ]
          },
          "metadata": {
            "tags": []
          },
          "execution_count": 56
        }
      ]
    },
    {
      "cell_type": "code",
      "metadata": {
        "id": "KbtEdLMf0vI3",
        "colab_type": "code",
        "colab": {
          "base_uri": "https://localhost:8080/",
          "height": 34
        },
        "outputId": "9b056571-7138-40bd-9743-6aaff53294ca"
      },
      "source": [
        "df.Daily_Change.min() # najwiekszy dzienny spadek"
      ],
      "execution_count": 57,
      "outputs": [
        {
          "output_type": "execute_result",
          "data": {
            "text/plain": [
              "-0.21628767847699626"
            ]
          },
          "metadata": {
            "tags": []
          },
          "execution_count": 57
        }
      ]
    },
    {
      "cell_type": "code",
      "metadata": {
        "id": "DwtMw0-j2BGx",
        "colab_type": "code",
        "colab": {
          "base_uri": "https://localhost:8080/",
          "height": 34
        },
        "outputId": "0be86ffe-fa8a-4319-f3d8-dbe473d55820"
      },
      "source": [
        "df.Daily_Change.max() # najwiekszy dzienny wzrost"
      ],
      "execution_count": 58,
      "outputs": [
        {
          "output_type": "execute_result",
          "data": {
            "text/plain": [
              "0.3825910931174088"
            ]
          },
          "metadata": {
            "tags": []
          },
          "execution_count": 58
        }
      ]
    },
    {
      "cell_type": "code",
      "metadata": {
        "id": "TbEO-zwu2Ot5",
        "colab_type": "code",
        "colab": {
          "base_uri": "https://localhost:8080/",
          "height": 285
        },
        "outputId": "7bd2f158-de08-41d7-9e56-14706b0ada9b"
      },
      "source": [
        "import seaborn as sns\n",
        "sns.set()\n",
        "\n",
        "df.Daily_Change.hist(bins=100)"
      ],
      "execution_count": 38,
      "outputs": [
        {
          "output_type": "execute_result",
          "data": {
            "text/plain": [
              "<matplotlib.axes._subplots.AxesSubplot at 0x7f6602604908>"
            ]
          },
          "metadata": {
            "tags": []
          },
          "execution_count": 38
        },
        {
          "output_type": "display_data",
          "data": {
            "image/png": "[encoded data removed]",
            "text/plain": [
              "<Figure size 432x288 with 1 Axes>"
            ]
          },
          "metadata": {
            "tags": []
          }
        }
      ]
    },
    {
      "cell_type": "code",
      "metadata": {
        "id": "QRCqTW1U2eo6",
        "colab_type": "code",
        "colab": {
          "base_uri": "https://localhost:8080/",
          "height": 302
        },
        "outputId": "13a72470-5ad0-47db-8ad4-7852261b0085"
      },
      "source": [
        "df.Close.plot()"
      ],
      "execution_count": 39,
      "outputs": [
        {
          "output_type": "execute_result",
          "data": {
            "text/plain": [
              "<matplotlib.axes._subplots.AxesSubplot at 0x7f660212c0f0>"
            ]
          },
          "metadata": {
            "tags": []
          },
          "execution_count": 39
        },
        {
          "output_type": "display_data",
          "data": {
            "image/png": "[encoded data removed]",
            "text/plain": [
              "<Figure size 432x288 with 1 Axes>"
            ]
          },
          "metadata": {
            "tags": []
          }
        }
      ]
    }
  ]
}