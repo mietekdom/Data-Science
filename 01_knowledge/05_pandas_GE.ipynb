{
  "nbformat": 4,
  "nbformat_minor": 0,
  "metadata": {
    "colab": {
      "name": "05_pandas_GE.ipynb",
      "provenance": [],
      "collapsed_sections": [],
      "authorship_tag": "ABX9TyOA93QFYJUM14xQKB0/FsT+",
      "include_colab_link": true
    },
    "kernelspec": {
      "name": "python3",
      "display_name": "Python 3"
    }
  },
  "cells": [
    {
      "cell_type": "markdown",
      "metadata": {
        "id": "view-in-github",
        "colab_type": "text"
      },
      "source": [
        "<a href=\"https://colab.research.google.com/github/mietekdom/Data-Science/blob/master/01_knowledge/05_pandas_GE.ipynb\" target=\"_parent\"><img src=\"https://colab.research.google.com/assets/colab-badge.svg\" alt=\"Open In Colab\"/></a>"
      ]
    },
    {
      "cell_type": "markdown",
      "metadata": {
        "id": "NQCVFa0fEGh5",
        "colab_type": "text"
      },
      "source": [
        "Import biblotek"
      ]
    },
    {
      "cell_type": "code",
      "metadata": {
        "id": "s0JEEolvDkfO",
        "colab_type": "code",
        "colab": {
          "base_uri": "https://localhost:8080/",
          "height": 52
        },
        "outputId": "c9c13668-b2d7-4779-8a9e-83f52d584624"
      },
      "source": [
        "import pandas as pd\n",
        "import numpy as np\n",
        "print(f'Pandas: {pd.__version__}')\n",
        "print(f'Numpy: {np.__version__}')"
      ],
      "execution_count": 1,
      "outputs": [
        {
          "output_type": "stream",
          "text": [
            "Pandas: 1.0.5\n",
            "Numpy: 1.18.5\n"
          ],
          "name": "stdout"
        }
      ]
    },
    {
      "cell_type": "markdown",
      "metadata": {
        "id": "dprtSYScEL_5",
        "colab_type": "text"
      },
      "source": [
        "Załadowanie danych"
      ]
    },
    {
      "cell_type": "code",
      "metadata": {
        "id": "orBZE7iEERzX",
        "colab_type": "code",
        "colab": {
          "base_uri": "https://localhost:8080/",
          "height": 225
        },
        "outputId": "53c45d94-1d86-4b3b-c181-8832157ea8d8"
      },
      "source": [
        "def fetch_financial_data(company='GE'):\n",
        "    \"\"\"Pobiera dane dotyczące notowań spółek na giełdzie według symboli\n",
        "    na serwisie stooq.pl\"\"\"\n",
        "    import pandas_datareader.data as web\n",
        "    return web.DataReader(name=company, data_source='stooq')\n",
        "\n",
        "df = fetch_financial_data()\n",
        "df.info()"
      ],
      "execution_count": 7,
      "outputs": [
        {
          "output_type": "stream",
          "text": [
            "<class 'pandas.core.frame.DataFrame'>\n",
            "DatetimeIndex: 1257 entries, 2020-08-26 to 2015-08-31\n",
            "Data columns (total 5 columns):\n",
            " #   Column  Non-Null Count  Dtype  \n",
            "---  ------  --------------  -----  \n",
            " 0   Open    1257 non-null   float64\n",
            " 1   High    1257 non-null   float64\n",
            " 2   Low     1257 non-null   float64\n",
            " 3   Close   1257 non-null   float64\n",
            " 4   Volume  1257 non-null   int64  \n",
            "dtypes: float64(4), int64(1)\n",
            "memory usage: 58.9 KB\n"
          ],
          "name": "stdout"
        }
      ]
    },
    {
      "cell_type": "code",
      "metadata": {
        "id": "6ULM25nKEzn5",
        "colab_type": "code",
        "colab": {
          "base_uri": "https://localhost:8080/",
          "height": 455
        },
        "outputId": "17411f1b-c295-41a0-fadc-9441e69f849a"
      },
      "source": [
        "df"
      ],
      "execution_count": 15,
      "outputs": [
        {
          "output_type": "execute_result",
          "data": {
            "text/html": [
              "<div>\n",
              "<style scoped>\n",
              "    .dataframe tbody tr th:only-of-type {\n",
              "        vertical-align: middle;\n",
              "    }\n",
              "\n",
              "    .dataframe tbody tr th {\n",
              "        vertical-align: top;\n",
              "    }\n",
              "\n",
              "    .dataframe thead th {\n",
              "        text-align: right;\n",
              "    }\n",
              "</style>\n",
              "<table border=\"1\" class=\"dataframe\">\n",
              "  <thead>\n",
              "    <tr style=\"text-align: right;\">\n",
              "      <th></th>\n",
              "      <th>open</th>\n",
              "      <th>high</th>\n",
              "      <th>low</th>\n",
              "      <th>close</th>\n",
              "      <th>volume</th>\n",
              "    </tr>\n",
              "    <tr>\n",
              "      <th>Date</th>\n",
              "      <th></th>\n",
              "      <th></th>\n",
              "      <th></th>\n",
              "      <th></th>\n",
              "      <th></th>\n",
              "    </tr>\n",
              "  </thead>\n",
              "  <tbody>\n",
              "    <tr>\n",
              "      <th>2020-08-26</th>\n",
              "      <td>6.620</td>\n",
              "      <td>6.6200</td>\n",
              "      <td>6.440</td>\n",
              "      <td>6.480</td>\n",
              "      <td>57303986</td>\n",
              "    </tr>\n",
              "    <tr>\n",
              "      <th>2020-08-25</th>\n",
              "      <td>6.650</td>\n",
              "      <td>6.7000</td>\n",
              "      <td>6.480</td>\n",
              "      <td>6.590</td>\n",
              "      <td>69449105</td>\n",
              "    </tr>\n",
              "    <tr>\n",
              "      <th>2020-08-24</th>\n",
              "      <td>6.350</td>\n",
              "      <td>6.6400</td>\n",
              "      <td>6.300</td>\n",
              "      <td>6.630</td>\n",
              "      <td>102785415</td>\n",
              "    </tr>\n",
              "    <tr>\n",
              "      <th>2020-08-21</th>\n",
              "      <td>6.250</td>\n",
              "      <td>6.3800</td>\n",
              "      <td>6.230</td>\n",
              "      <td>6.310</td>\n",
              "      <td>59851459</td>\n",
              "    </tr>\n",
              "    <tr>\n",
              "      <th>2020-08-20</th>\n",
              "      <td>6.330</td>\n",
              "      <td>6.3769</td>\n",
              "      <td>6.210</td>\n",
              "      <td>6.270</td>\n",
              "      <td>63763962</td>\n",
              "    </tr>\n",
              "    <tr>\n",
              "      <th>...</th>\n",
              "      <td>...</td>\n",
              "      <td>...</td>\n",
              "      <td>...</td>\n",
              "      <td>...</td>\n",
              "      <td>...</td>\n",
              "    </tr>\n",
              "    <tr>\n",
              "      <th>2015-09-04</th>\n",
              "      <td>21.560</td>\n",
              "      <td>21.5600</td>\n",
              "      <td>21.265</td>\n",
              "      <td>21.397</td>\n",
              "      <td>39960825</td>\n",
              "    </tr>\n",
              "    <tr>\n",
              "      <th>2015-09-03</th>\n",
              "      <td>22.074</td>\n",
              "      <td>22.2440</td>\n",
              "      <td>21.746</td>\n",
              "      <td>21.852</td>\n",
              "      <td>37646287</td>\n",
              "    </tr>\n",
              "    <tr>\n",
              "      <th>2015-09-02</th>\n",
              "      <td>21.523</td>\n",
              "      <td>21.9150</td>\n",
              "      <td>21.246</td>\n",
              "      <td>21.907</td>\n",
              "      <td>56619445</td>\n",
              "    </tr>\n",
              "    <tr>\n",
              "      <th>2015-09-01</th>\n",
              "      <td>21.595</td>\n",
              "      <td>21.7170</td>\n",
              "      <td>21.113</td>\n",
              "      <td>21.291</td>\n",
              "      <td>73290061</td>\n",
              "    </tr>\n",
              "    <tr>\n",
              "      <th>2015-08-31</th>\n",
              "      <td>22.272</td>\n",
              "      <td>22.2720</td>\n",
              "      <td>21.915</td>\n",
              "      <td>22.129</td>\n",
              "      <td>41506958</td>\n",
              "    </tr>\n",
              "  </tbody>\n",
              "</table>\n",
              "<p>1257 rows × 5 columns</p>\n",
              "</div>"
            ],
            "text/plain": [
              "              open     high     low   close     volume\n",
              "Date                                                  \n",
              "2020-08-26   6.620   6.6200   6.440   6.480   57303986\n",
              "2020-08-25   6.650   6.7000   6.480   6.590   69449105\n",
              "2020-08-24   6.350   6.6400   6.300   6.630  102785415\n",
              "2020-08-21   6.250   6.3800   6.230   6.310   59851459\n",
              "2020-08-20   6.330   6.3769   6.210   6.270   63763962\n",
              "...            ...      ...     ...     ...        ...\n",
              "2015-09-04  21.560  21.5600  21.265  21.397   39960825\n",
              "2015-09-03  22.074  22.2440  21.746  21.852   37646287\n",
              "2015-09-02  21.523  21.9150  21.246  21.907   56619445\n",
              "2015-09-01  21.595  21.7170  21.113  21.291   73290061\n",
              "2015-08-31  22.272  22.2720  21.915  22.129   41506958\n",
              "\n",
              "[1257 rows x 5 columns]"
            ]
          },
          "metadata": {
            "tags": []
          },
          "execution_count": 15
        }
      ]
    },
    {
      "cell_type": "code",
      "metadata": {
        "id": "XgGG02QcGK_Y",
        "colab_type": "code",
        "colab": {
          "base_uri": "https://localhost:8080/",
          "height": 394
        },
        "outputId": "6e50decb-cf62-41d3-8d2d-ab92ff9a0816"
      },
      "source": [
        "df.head(10) # zwraca pierwsze 10 wierszy"
      ],
      "execution_count": 10,
      "outputs": [
        {
          "output_type": "execute_result",
          "data": {
            "text/html": [
              "<div>\n",
              "<style scoped>\n",
              "    .dataframe tbody tr th:only-of-type {\n",
              "        vertical-align: middle;\n",
              "    }\n",
              "\n",
              "    .dataframe tbody tr th {\n",
              "        vertical-align: top;\n",
              "    }\n",
              "\n",
              "    .dataframe thead th {\n",
              "        text-align: right;\n",
              "    }\n",
              "</style>\n",
              "<table border=\"1\" class=\"dataframe\">\n",
              "  <thead>\n",
              "    <tr style=\"text-align: right;\">\n",
              "      <th></th>\n",
              "      <th>Open</th>\n",
              "      <th>High</th>\n",
              "      <th>Low</th>\n",
              "      <th>Close</th>\n",
              "      <th>Volume</th>\n",
              "    </tr>\n",
              "    <tr>\n",
              "      <th>Date</th>\n",
              "      <th></th>\n",
              "      <th></th>\n",
              "      <th></th>\n",
              "      <th></th>\n",
              "      <th></th>\n",
              "    </tr>\n",
              "  </thead>\n",
              "  <tbody>\n",
              "    <tr>\n",
              "      <th>2020-08-26</th>\n",
              "      <td>6.62</td>\n",
              "      <td>6.6200</td>\n",
              "      <td>6.440</td>\n",
              "      <td>6.48</td>\n",
              "      <td>57303986</td>\n",
              "    </tr>\n",
              "    <tr>\n",
              "      <th>2020-08-25</th>\n",
              "      <td>6.65</td>\n",
              "      <td>6.7000</td>\n",
              "      <td>6.480</td>\n",
              "      <td>6.59</td>\n",
              "      <td>69449105</td>\n",
              "    </tr>\n",
              "    <tr>\n",
              "      <th>2020-08-24</th>\n",
              "      <td>6.35</td>\n",
              "      <td>6.6400</td>\n",
              "      <td>6.300</td>\n",
              "      <td>6.63</td>\n",
              "      <td>102785415</td>\n",
              "    </tr>\n",
              "    <tr>\n",
              "      <th>2020-08-21</th>\n",
              "      <td>6.25</td>\n",
              "      <td>6.3800</td>\n",
              "      <td>6.230</td>\n",
              "      <td>6.31</td>\n",
              "      <td>59851459</td>\n",
              "    </tr>\n",
              "    <tr>\n",
              "      <th>2020-08-20</th>\n",
              "      <td>6.33</td>\n",
              "      <td>6.3769</td>\n",
              "      <td>6.210</td>\n",
              "      <td>6.27</td>\n",
              "      <td>63763962</td>\n",
              "    </tr>\n",
              "    <tr>\n",
              "      <th>2020-08-19</th>\n",
              "      <td>6.47</td>\n",
              "      <td>6.5700</td>\n",
              "      <td>6.350</td>\n",
              "      <td>6.38</td>\n",
              "      <td>54361951</td>\n",
              "    </tr>\n",
              "    <tr>\n",
              "      <th>2020-08-18</th>\n",
              "      <td>6.49</td>\n",
              "      <td>6.5700</td>\n",
              "      <td>6.410</td>\n",
              "      <td>6.44</td>\n",
              "      <td>42686043</td>\n",
              "    </tr>\n",
              "    <tr>\n",
              "      <th>2020-08-17</th>\n",
              "      <td>6.67</td>\n",
              "      <td>6.6900</td>\n",
              "      <td>6.450</td>\n",
              "      <td>6.47</td>\n",
              "      <td>59029425</td>\n",
              "    </tr>\n",
              "    <tr>\n",
              "      <th>2020-08-14</th>\n",
              "      <td>6.54</td>\n",
              "      <td>6.7200</td>\n",
              "      <td>6.470</td>\n",
              "      <td>6.66</td>\n",
              "      <td>50397190</td>\n",
              "    </tr>\n",
              "    <tr>\n",
              "      <th>2020-08-13</th>\n",
              "      <td>6.59</td>\n",
              "      <td>6.7600</td>\n",
              "      <td>6.585</td>\n",
              "      <td>6.60</td>\n",
              "      <td>53428517</td>\n",
              "    </tr>\n",
              "  </tbody>\n",
              "</table>\n",
              "</div>"
            ],
            "text/plain": [
              "            Open    High    Low  Close     Volume\n",
              "Date                                             \n",
              "2020-08-26  6.62  6.6200  6.440   6.48   57303986\n",
              "2020-08-25  6.65  6.7000  6.480   6.59   69449105\n",
              "2020-08-24  6.35  6.6400  6.300   6.63  102785415\n",
              "2020-08-21  6.25  6.3800  6.230   6.31   59851459\n",
              "2020-08-20  6.33  6.3769  6.210   6.27   63763962\n",
              "2020-08-19  6.47  6.5700  6.350   6.38   54361951\n",
              "2020-08-18  6.49  6.5700  6.410   6.44   42686043\n",
              "2020-08-17  6.67  6.6900  6.450   6.47   59029425\n",
              "2020-08-14  6.54  6.7200  6.470   6.66   50397190\n",
              "2020-08-13  6.59  6.7600  6.585   6.60   53428517"
            ]
          },
          "metadata": {
            "tags": []
          },
          "execution_count": 10
        }
      ]
    },
    {
      "cell_type": "code",
      "metadata": {
        "id": "fnKxiCI5Gbqt",
        "colab_type": "code",
        "colab": {
          "base_uri": "https://localhost:8080/",
          "height": 34
        },
        "outputId": "b96d1c97-8366-42bd-84d3-bd84f28a3cdd"
      },
      "source": [
        "df.columns # nazwy kolumn"
      ],
      "execution_count": 11,
      "outputs": [
        {
          "output_type": "execute_result",
          "data": {
            "text/plain": [
              "Index(['Open', 'High', 'Low', 'Close', 'Volume'], dtype='object')"
            ]
          },
          "metadata": {
            "tags": []
          },
          "execution_count": 11
        }
      ]
    },
    {
      "cell_type": "code",
      "metadata": {
        "id": "Lrb9EYIeGhdj",
        "colab_type": "code",
        "colab": {
          "base_uri": "https://localhost:8080/",
          "height": 34
        },
        "outputId": "6c850065-91d7-461f-9f5d-5dfcaba670dc"
      },
      "source": [
        "df.columns = [col.lower() for col in df.columns] # zmiana liter na małe\n",
        "df.columns"
      ],
      "execution_count": 12,
      "outputs": [
        {
          "output_type": "execute_result",
          "data": {
            "text/plain": [
              "Index(['open', 'high', 'low', 'close', 'volume'], dtype='object')"
            ]
          },
          "metadata": {
            "tags": []
          },
          "execution_count": 12
        }
      ]
    },
    {
      "cell_type": "code",
      "metadata": {
        "id": "qdYPyuEVG3ZW",
        "colab_type": "code",
        "colab": {
          "base_uri": "https://localhost:8080/",
          "height": 300
        },
        "outputId": "a4ac8dce-3aff-4b8b-c831-be4c992168ec"
      },
      "source": [
        "df.describe() # wyswietla statystyki "
      ],
      "execution_count": 16,
      "outputs": [
        {
          "output_type": "execute_result",
          "data": {
            "text/html": [
              "<div>\n",
              "<style scoped>\n",
              "    .dataframe tbody tr th:only-of-type {\n",
              "        vertical-align: middle;\n",
              "    }\n",
              "\n",
              "    .dataframe tbody tr th {\n",
              "        vertical-align: top;\n",
              "    }\n",
              "\n",
              "    .dataframe thead th {\n",
              "        text-align: right;\n",
              "    }\n",
              "</style>\n",
              "<table border=\"1\" class=\"dataframe\">\n",
              "  <thead>\n",
              "    <tr style=\"text-align: right;\">\n",
              "      <th></th>\n",
              "      <th>open</th>\n",
              "      <th>high</th>\n",
              "      <th>low</th>\n",
              "      <th>close</th>\n",
              "      <th>volume</th>\n",
              "    </tr>\n",
              "  </thead>\n",
              "  <tbody>\n",
              "    <tr>\n",
              "      <th>count</th>\n",
              "      <td>1257.000000</td>\n",
              "      <td>1257.000000</td>\n",
              "      <td>1257.000000</td>\n",
              "      <td>1257.000000</td>\n",
              "      <td>1.257000e+03</td>\n",
              "    </tr>\n",
              "    <tr>\n",
              "      <th>mean</th>\n",
              "      <td>17.818074</td>\n",
              "      <td>17.995649</td>\n",
              "      <td>17.636258</td>\n",
              "      <td>17.809367</td>\n",
              "      <td>6.832732e+07</td>\n",
              "    </tr>\n",
              "    <tr>\n",
              "      <th>std</th>\n",
              "      <td>8.331987</td>\n",
              "      <td>8.347845</td>\n",
              "      <td>8.334273</td>\n",
              "      <td>8.347227</td>\n",
              "      <td>4.879184e+07</td>\n",
              "    </tr>\n",
              "    <tr>\n",
              "      <th>min</th>\n",
              "      <td>5.601600</td>\n",
              "      <td>5.651500</td>\n",
              "      <td>5.471800</td>\n",
              "      <td>5.481800</td>\n",
              "      <td>1.418883e+07</td>\n",
              "    </tr>\n",
              "    <tr>\n",
              "      <th>25%</th>\n",
              "      <td>10.056000</td>\n",
              "      <td>10.274000</td>\n",
              "      <td>9.935000</td>\n",
              "      <td>10.065000</td>\n",
              "      <td>3.715072e+07</td>\n",
              "    </tr>\n",
              "    <tr>\n",
              "      <th>50%</th>\n",
              "      <td>14.346000</td>\n",
              "      <td>14.563000</td>\n",
              "      <td>14.144000</td>\n",
              "      <td>14.318000</td>\n",
              "      <td>5.406274e+07</td>\n",
              "    </tr>\n",
              "    <tr>\n",
              "      <th>75%</th>\n",
              "      <td>27.049000</td>\n",
              "      <td>27.328000</td>\n",
              "      <td>26.879000</td>\n",
              "      <td>27.106000</td>\n",
              "      <td>8.327024e+07</td>\n",
              "    </tr>\n",
              "    <tr>\n",
              "      <th>max</th>\n",
              "      <td>30.340000</td>\n",
              "      <td>30.375000</td>\n",
              "      <td>30.135000</td>\n",
              "      <td>30.311000</td>\n",
              "      <td>4.794930e+08</td>\n",
              "    </tr>\n",
              "  </tbody>\n",
              "</table>\n",
              "</div>"
            ],
            "text/plain": [
              "              open         high          low        close        volume\n",
              "count  1257.000000  1257.000000  1257.000000  1257.000000  1.257000e+03\n",
              "mean     17.818074    17.995649    17.636258    17.809367  6.832732e+07\n",
              "std       8.331987     8.347845     8.334273     8.347227  4.879184e+07\n",
              "min       5.601600     5.651500     5.471800     5.481800  1.418883e+07\n",
              "25%      10.056000    10.274000     9.935000    10.065000  3.715072e+07\n",
              "50%      14.346000    14.563000    14.144000    14.318000  5.406274e+07\n",
              "75%      27.049000    27.328000    26.879000    27.106000  8.327024e+07\n",
              "max      30.340000    30.375000    30.135000    30.311000  4.794930e+08"
            ]
          },
          "metadata": {
            "tags": []
          },
          "execution_count": 16
        }
      ]
    },
    {
      "cell_type": "markdown",
      "metadata": {
        "id": "Dk3KV2OjGDIG",
        "colab_type": "text"
      },
      "source": [
        "Eksploracja danych"
      ]
    },
    {
      "cell_type": "code",
      "metadata": {
        "id": "bYhvk-4tGCcm",
        "colab_type": "code",
        "colab": {}
      },
      "source": [
        ""
      ],
      "execution_count": null,
      "outputs": []
    }
  ]
}