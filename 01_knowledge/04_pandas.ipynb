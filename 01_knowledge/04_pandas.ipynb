{
  "nbformat": 4,
  "nbformat_minor": 0,
  "metadata": {
    "colab": {
      "name": "04_pandas.ipynb",
      "provenance": [],
      "collapsed_sections": [],
      "authorship_tag": "ABX9TyO22z/7fIKXyjCDja5fqFNX",
      "include_colab_link": true
    },
    "kernelspec": {
      "name": "python3",
      "display_name": "Python 3"
    }
  },
  "cells": [
    {
      "cell_type": "markdown",
      "metadata": {
        "id": "view-in-github",
        "colab_type": "text"
      },
      "source": [
        "<a href=\"https://colab.research.google.com/github/mietekdom/Data-Science/blob/master/01_knowledge/04_pandas.ipynb\" target=\"_parent\"><img src=\"https://colab.research.google.com/assets/colab-badge.svg\" alt=\"Open In Colab\"/></a>"
      ]
    },
    {
      "cell_type": "markdown",
      "metadata": {
        "id": "21Q8bDMoglyZ",
        "colab_type": "text"
      },
      "source": [
        "Data Series"
      ]
    },
    {
      "cell_type": "code",
      "metadata": {
        "id": "y2C6Uilnd4RG",
        "colab_type": "code",
        "colab": {
          "base_uri": "https://localhost:8080/",
          "height": 35
        },
        "outputId": "682d6547-f518-4c74-acfb-3db7c702e5c7"
      },
      "source": [
        "import pandas as pd\n",
        "pd.__version__"
      ],
      "execution_count": 1,
      "outputs": [
        {
          "output_type": "execute_result",
          "data": {
            "application/vnd.google.colaboratory.intrinsic+json": {
              "type": "string"
            },
            "text/plain": [
              "'1.0.5'"
            ]
          },
          "metadata": {
            "tags": []
          },
          "execution_count": 1
        }
      ]
    },
    {
      "cell_type": "markdown",
      "metadata": {
        "id": "w3INeON3eKWS",
        "colab_type": "text"
      },
      "source": [
        "Obiekty typu Series"
      ]
    },
    {
      "cell_type": "code",
      "metadata": {
        "id": "Qs1viCQ4eNGx",
        "colab_type": "code",
        "colab": {
          "base_uri": "https://localhost:8080/",
          "height": 104
        },
        "outputId": "5c67e4e6-b583-4e4f-8ec0-38abeeb1b914"
      },
      "source": [
        "S = pd.Series(data=[1, 3, 5, 6])\n",
        "S"
      ],
      "execution_count": 4,
      "outputs": [
        {
          "output_type": "execute_result",
          "data": {
            "text/plain": [
              "0    1\n",
              "1    3\n",
              "2    5\n",
              "3    6\n",
              "dtype: int64"
            ]
          },
          "metadata": {
            "tags": []
          },
          "execution_count": 4
        }
      ]
    },
    {
      "cell_type": "code",
      "metadata": {
        "id": "V4wWwKRaelWy",
        "colab_type": "code",
        "colab": {
          "base_uri": "https://localhost:8080/",
          "height": 104
        },
        "outputId": "31639b21-fb54-4eb2-b97a-8a84ad8e71c1"
      },
      "source": [
        "S = pd.Series(data=[1, 3, 5, 6],index=['a', 'b', 'c', 'd'], name='sample')\n",
        "S"
      ],
      "execution_count": 7,
      "outputs": [
        {
          "output_type": "execute_result",
          "data": {
            "text/plain": [
              "a    1\n",
              "b    3\n",
              "c    5\n",
              "d    6\n",
              "Name: sample, dtype: int64"
            ]
          },
          "metadata": {
            "tags": []
          },
          "execution_count": 7
        }
      ]
    },
    {
      "cell_type": "code",
      "metadata": {
        "id": "vEHZ8pCifKKP",
        "colab_type": "code",
        "colab": {
          "base_uri": "https://localhost:8080/",
          "height": 34
        },
        "outputId": "f6dea2a2-4e46-4ecb-c99a-289e40ce548e"
      },
      "source": [
        "import numpy as np\n",
        "np.nan # wstawiamy braki do obiektu"
      ],
      "execution_count": 8,
      "outputs": [
        {
          "output_type": "execute_result",
          "data": {
            "text/plain": [
              "nan"
            ]
          },
          "metadata": {
            "tags": []
          },
          "execution_count": 8
        }
      ]
    },
    {
      "cell_type": "code",
      "metadata": {
        "id": "LQprzGcafXqa",
        "colab_type": "code",
        "colab": {
          "base_uri": "https://localhost:8080/",
          "height": 104
        },
        "outputId": "7125d6b8-dcc1-4dd3-dbeb-40178981cc60"
      },
      "source": [
        "S = pd.Series(data=[1, np.nan, 5, 6],index=['a', 'b', 'c', 'd'], name='sample')\n",
        "S"
      ],
      "execution_count": 10,
      "outputs": [
        {
          "output_type": "execute_result",
          "data": {
            "text/plain": [
              "a    1.0\n",
              "b    NaN\n",
              "c    5.0\n",
              "d    6.0\n",
              "Name: sample, dtype: float64"
            ]
          },
          "metadata": {
            "tags": []
          },
          "execution_count": 10
        }
      ]
    },
    {
      "cell_type": "code",
      "metadata": {
        "id": "P5YsRFlkfhKH",
        "colab_type": "code",
        "colab": {
          "base_uri": "https://localhost:8080/",
          "height": 86
        },
        "outputId": "eca6d903-2276-42b9-b229-d70770772fab"
      },
      "source": [
        "S = pd.Series(data=[True, True, False])\n",
        "S"
      ],
      "execution_count": 11,
      "outputs": [
        {
          "output_type": "execute_result",
          "data": {
            "text/plain": [
              "0     True\n",
              "1     True\n",
              "2    False\n",
              "dtype: bool"
            ]
          },
          "metadata": {
            "tags": []
          },
          "execution_count": 11
        }
      ]
    },
    {
      "cell_type": "markdown",
      "metadata": {
        "id": "-_io8KYUfqwk",
        "colab_type": "text"
      },
      "source": [
        "Ideks jako daty"
      ]
    },
    {
      "cell_type": "code",
      "metadata": {
        "id": "_FQeXggpftGN",
        "colab_type": "code",
        "colab": {
          "base_uri": "https://localhost:8080/",
          "height": 208
        },
        "outputId": "e40812ad-00ee-465d-c019-623c4c40879c"
      },
      "source": [
        "S = pd.Series(data=np.arange(10, 20), index=pd.date_range(start='20200901',periods=10))\n",
        "S"
      ],
      "execution_count": 13,
      "outputs": [
        {
          "output_type": "execute_result",
          "data": {
            "text/plain": [
              "2020-09-01    10\n",
              "2020-09-02    11\n",
              "2020-09-03    12\n",
              "2020-09-04    13\n",
              "2020-09-05    14\n",
              "2020-09-06    15\n",
              "2020-09-07    16\n",
              "2020-09-08    17\n",
              "2020-09-09    18\n",
              "2020-09-10    19\n",
              "Freq: D, dtype: int64"
            ]
          },
          "metadata": {
            "tags": []
          },
          "execution_count": 13
        }
      ]
    },
    {
      "cell_type": "code",
      "metadata": {
        "id": "QJFsRu3zhOvO",
        "colab_type": "code",
        "colab": {
          "base_uri": "https://localhost:8080/",
          "height": 86
        },
        "outputId": "f76de5b5-03df-423d-bd57-e8b179cdd6d7"
      },
      "source": [
        "S = pd.Series(data=['java', 'python', 'sql'], name='languages')\n",
        "S"
      ],
      "execution_count": 14,
      "outputs": [
        {
          "output_type": "execute_result",
          "data": {
            "text/plain": [
              "0      java\n",
              "1    python\n",
              "2       sql\n",
              "Name: languages, dtype: object"
            ]
          },
          "metadata": {
            "tags": []
          },
          "execution_count": 14
        }
      ]
    },
    {
      "cell_type": "markdown",
      "metadata": {
        "id": "cBOXM8Inhg5H",
        "colab_type": "text"
      },
      "source": [
        "Atrybuty"
      ]
    },
    {
      "cell_type": "code",
      "metadata": {
        "id": "0-b-ZROlhixG",
        "colab_type": "code",
        "colab": {
          "base_uri": "https://localhost:8080/",
          "height": 208
        },
        "outputId": "a98a4b79-024c-4f37-a716-a4d5ecca11cd"
      },
      "source": [
        "S = pd.Series(data=np.arange(10, 20), index=pd.date_range(start='20200901',periods=10))\n",
        "S"
      ],
      "execution_count": 15,
      "outputs": [
        {
          "output_type": "execute_result",
          "data": {
            "text/plain": [
              "2020-09-01    10\n",
              "2020-09-02    11\n",
              "2020-09-03    12\n",
              "2020-09-04    13\n",
              "2020-09-05    14\n",
              "2020-09-06    15\n",
              "2020-09-07    16\n",
              "2020-09-08    17\n",
              "2020-09-09    18\n",
              "2020-09-10    19\n",
              "Freq: D, dtype: int64"
            ]
          },
          "metadata": {
            "tags": []
          },
          "execution_count": 15
        }
      ]
    },
    {
      "cell_type": "code",
      "metadata": {
        "id": "7rWxbgzjhqu_",
        "colab_type": "code",
        "colab": {
          "base_uri": "https://localhost:8080/",
          "height": 86
        },
        "outputId": "a4007b3a-4038-446c-8e3c-bd49d4b04943"
      },
      "source": [
        "S.index"
      ],
      "execution_count": 16,
      "outputs": [
        {
          "output_type": "execute_result",
          "data": {
            "text/plain": [
              "DatetimeIndex(['2020-09-01', '2020-09-02', '2020-09-03', '2020-09-04',\n",
              "               '2020-09-05', '2020-09-06', '2020-09-07', '2020-09-08',\n",
              "               '2020-09-09', '2020-09-10'],\n",
              "              dtype='datetime64[ns]', freq='D')"
            ]
          },
          "metadata": {
            "tags": []
          },
          "execution_count": 16
        }
      ]
    },
    {
      "cell_type": "code",
      "metadata": {
        "id": "EDibY7XuhubO",
        "colab_type": "code",
        "colab": {
          "base_uri": "https://localhost:8080/",
          "height": 191
        },
        "outputId": "5d130382-d9bf-491e-b4cd-43430654ae66"
      },
      "source": [
        "list(S.index) #zmiana na liste"
      ],
      "execution_count": 17,
      "outputs": [
        {
          "output_type": "execute_result",
          "data": {
            "text/plain": [
              "[Timestamp('2020-09-01 00:00:00', freq='D'),\n",
              " Timestamp('2020-09-02 00:00:00', freq='D'),\n",
              " Timestamp('2020-09-03 00:00:00', freq='D'),\n",
              " Timestamp('2020-09-04 00:00:00', freq='D'),\n",
              " Timestamp('2020-09-05 00:00:00', freq='D'),\n",
              " Timestamp('2020-09-06 00:00:00', freq='D'),\n",
              " Timestamp('2020-09-07 00:00:00', freq='D'),\n",
              " Timestamp('2020-09-08 00:00:00', freq='D'),\n",
              " Timestamp('2020-09-09 00:00:00', freq='D'),\n",
              " Timestamp('2020-09-10 00:00:00', freq='D')]"
            ]
          },
          "metadata": {
            "tags": []
          },
          "execution_count": 17
        }
      ]
    },
    {
      "cell_type": "code",
      "metadata": {
        "id": "3ohKcFnaiQX4",
        "colab_type": "code",
        "colab": {
          "base_uri": "https://localhost:8080/",
          "height": 34
        },
        "outputId": "4095e8d9-5cb8-4cb3-a681-59dace772700"
      },
      "source": [
        "S.values"
      ],
      "execution_count": 18,
      "outputs": [
        {
          "output_type": "execute_result",
          "data": {
            "text/plain": [
              "array([10, 11, 12, 13, 14, 15, 16, 17, 18, 19])"
            ]
          },
          "metadata": {
            "tags": []
          },
          "execution_count": 18
        }
      ]
    },
    {
      "cell_type": "code",
      "metadata": {
        "id": "M_EOMwhWilWX",
        "colab_type": "code",
        "colab": {
          "base_uri": "https://localhost:8080/",
          "height": 34
        },
        "outputId": "b3317ad4-8612-4fff-fa7d-35eb4f6acf1f"
      },
      "source": [
        "S.dtypes #określa format kodu"
      ],
      "execution_count": 20,
      "outputs": [
        {
          "output_type": "execute_result",
          "data": {
            "text/plain": [
              "dtype('int64')"
            ]
          },
          "metadata": {
            "tags": []
          },
          "execution_count": 20
        }
      ]
    },
    {
      "cell_type": "code",
      "metadata": {
        "id": "f4z9zuhsmJV8",
        "colab_type": "code",
        "colab": {
          "base_uri": "https://localhost:8080/",
          "height": 34
        },
        "outputId": "fe55e1db-91f6-49a3-d45a-b5968b2bf135"
      },
      "source": [
        "S.shape"
      ],
      "execution_count": 21,
      "outputs": [
        {
          "output_type": "execute_result",
          "data": {
            "text/plain": [
              "(10,)"
            ]
          },
          "metadata": {
            "tags": []
          },
          "execution_count": 21
        }
      ]
    },
    {
      "cell_type": "code",
      "metadata": {
        "id": "4EA4PSALmg9Z",
        "colab_type": "code",
        "colab": {
          "base_uri": "https://localhost:8080/",
          "height": 86
        },
        "outputId": "4c5d0728-e58f-4588-c6e0-e35dd2cacf7e"
      },
      "source": [
        "price = pd.Series(data={'Apple': 200, 'CD Project': 60, 'Amazon': 1900}) #data series jako słownik\n",
        "price"
      ],
      "execution_count": 25,
      "outputs": [
        {
          "output_type": "execute_result",
          "data": {
            "text/plain": [
              "Apple          200\n",
              "CD Project      60\n",
              "Amazon        1900\n",
              "dtype: int64"
            ]
          },
          "metadata": {
            "tags": []
          },
          "execution_count": 25
        }
      ]
    },
    {
      "cell_type": "code",
      "metadata": {
        "id": "kPcP1EmTm04E",
        "colab_type": "code",
        "colab": {
          "base_uri": "https://localhost:8080/",
          "height": 34
        },
        "outputId": "b9ef1b1b-1225-44d3-fc84-415452fb1119"
      },
      "source": [
        "price[1]\n",
        "price['Amazon'] #wycinanie danych"
      ],
      "execution_count": 28,
      "outputs": [
        {
          "output_type": "execute_result",
          "data": {
            "text/plain": [
              "1900"
            ]
          },
          "metadata": {
            "tags": []
          },
          "execution_count": 28
        }
      ]
    },
    {
      "cell_type": "code",
      "metadata": {
        "id": "qqCIWOqknOMQ",
        "colab_type": "code",
        "colab": {
          "base_uri": "https://localhost:8080/",
          "height": 34
        },
        "outputId": "7f613316-7a3c-49b1-b209-5a3f48de2e9d"
      },
      "source": [
        "price.count() #zlicza elementy w obiekcie typu series"
      ],
      "execution_count": 29,
      "outputs": [
        {
          "output_type": "execute_result",
          "data": {
            "text/plain": [
              "3"
            ]
          },
          "metadata": {
            "tags": []
          },
          "execution_count": 29
        }
      ]
    },
    {
      "cell_type": "code",
      "metadata": {
        "id": "yDHX4DDInZXJ",
        "colab_type": "code",
        "colab": {
          "base_uri": "https://localhost:8080/",
          "height": 86
        },
        "outputId": "e34ed33e-d871-48c7-8c4a-e9b369e42348"
      },
      "source": [
        "price.value_counts() #zlicza ile razy wystepuje element w obiekcie"
      ],
      "execution_count": 32,
      "outputs": [
        {
          "output_type": "execute_result",
          "data": {
            "text/plain": [
              "60      1\n",
              "1900    1\n",
              "200     1\n",
              "dtype: int64"
            ]
          },
          "metadata": {
            "tags": []
          },
          "execution_count": 32
        }
      ]
    },
    {
      "cell_type": "code",
      "metadata": {
        "id": "mhEUoULhnna4",
        "colab_type": "code",
        "colab": {
          "base_uri": "https://localhost:8080/",
          "height": 34
        },
        "outputId": "be20b279-ec9a-4662-d11f-6c43f5d2153e"
      },
      "source": [
        "price.sum() #sumowanie"
      ],
      "execution_count": 33,
      "outputs": [
        {
          "output_type": "execute_result",
          "data": {
            "text/plain": [
              "2160"
            ]
          },
          "metadata": {
            "tags": []
          },
          "execution_count": 33
        }
      ]
    },
    {
      "cell_type": "code",
      "metadata": {
        "id": "pCzoCD4Rns0Q",
        "colab_type": "code",
        "colab": {
          "base_uri": "https://localhost:8080/",
          "height": 34
        },
        "outputId": "c8b0f123-76ed-4db1-e4ac-639026e2ab07"
      },
      "source": [
        "price.max()"
      ],
      "execution_count": 34,
      "outputs": [
        {
          "output_type": "execute_result",
          "data": {
            "text/plain": [
              "1900"
            ]
          },
          "metadata": {
            "tags": []
          },
          "execution_count": 34
        }
      ]
    },
    {
      "cell_type": "code",
      "metadata": {
        "id": "jZN5dKt6nvUN",
        "colab_type": "code",
        "colab": {
          "base_uri": "https://localhost:8080/",
          "height": 34
        },
        "outputId": "75f20da9-f1a7-4516-bd38-ee9d62fb1c90"
      },
      "source": [
        "price.min()"
      ],
      "execution_count": 36,
      "outputs": [
        {
          "output_type": "execute_result",
          "data": {
            "text/plain": [
              "60"
            ]
          },
          "metadata": {
            "tags": []
          },
          "execution_count": 36
        }
      ]
    },
    {
      "cell_type": "code",
      "metadata": {
        "id": "gYqefZ4HnvgD",
        "colab_type": "code",
        "colab": {
          "base_uri": "https://localhost:8080/",
          "height": 34
        },
        "outputId": "77742be4-c462-433c-afa9-4e0dc0cda517"
      },
      "source": [
        "price.mean()"
      ],
      "execution_count": 35,
      "outputs": [
        {
          "output_type": "execute_result",
          "data": {
            "text/plain": [
              "720.0"
            ]
          },
          "metadata": {
            "tags": []
          },
          "execution_count": 35
        }
      ]
    },
    {
      "cell_type": "code",
      "metadata": {
        "id": "H_5TGw-dn46g",
        "colab_type": "code",
        "colab": {
          "base_uri": "https://localhost:8080/",
          "height": 173
        },
        "outputId": "19ae4bdc-65a8-48c8-a263-b16d5960f6da"
      },
      "source": [
        "price.describe() #opis zbiorczy naszego obiektu"
      ],
      "execution_count": 37,
      "outputs": [
        {
          "output_type": "execute_result",
          "data": {
            "text/plain": [
              "count       3.000000\n",
              "mean      720.000000\n",
              "std      1024.304642\n",
              "min        60.000000\n",
              "25%       130.000000\n",
              "50%       200.000000\n",
              "75%      1050.000000\n",
              "max      1900.000000\n",
              "dtype: float64"
            ]
          },
          "metadata": {
            "tags": []
          },
          "execution_count": 37
        }
      ]
    }
  ]
}