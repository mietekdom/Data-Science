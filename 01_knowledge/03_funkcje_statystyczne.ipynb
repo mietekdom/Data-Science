{
  "nbformat": 4,
  "nbformat_minor": 0,
  "metadata": {
    "colab": {
      "name": "03_funkcje_statystyczne.ipynb",
      "provenance": [],
      "collapsed_sections": [],
      "authorship_tag": "ABX9TyOR1ID0ITEmWwXO2w7RHvlY",
      "include_colab_link": true
    },
    "kernelspec": {
      "name": "python3",
      "display_name": "Python 3"
    }
  },
  "cells": [
    {
      "cell_type": "markdown",
      "metadata": {
        "id": "view-in-github",
        "colab_type": "text"
      },
      "source": [
        "<a href=\"https://colab.research.google.com/github/mietekdom/Data-Science/blob/master/01_knowledge/03_funkcje_statystyczne.ipynb\" target=\"_parent\"><img src=\"https://colab.research.google.com/assets/colab-badge.svg\" alt=\"Open In Colab\"/></a>"
      ]
    },
    {
      "cell_type": "code",
      "metadata": {
        "id": "4eecUkE1_Njt",
        "colab_type": "code",
        "colab": {
          "base_uri": "https://localhost:8080/",
          "height": 35
        },
        "outputId": "5dac4d1d-68e1-4a1d-9a9d-35dab27451f9"
      },
      "source": [
        "import numpy as np\n",
        "np.__version__"
      ],
      "execution_count": null,
      "outputs": [
        {
          "output_type": "execute_result",
          "data": {
            "application/vnd.google.colaboratory.intrinsic+json": {
              "type": "string"
            },
            "text/plain": [
              "'1.18.5'"
            ]
          },
          "metadata": {
            "tags": []
          },
          "execution_count": 3
        }
      ]
    },
    {
      "cell_type": "code",
      "metadata": {
        "id": "kvkvdeCA_hNs",
        "colab_type": "code",
        "colab": {}
      },
      "source": [
        "Funkcje statystyczne"
      ],
      "execution_count": null,
      "outputs": []
    },
    {
      "cell_type": "code",
      "metadata": {
        "id": "BqX9BF4k_j6c",
        "colab_type": "code",
        "colab": {
          "base_uri": "https://localhost:8080/",
          "height": 69
        },
        "outputId": "ff88d4be-b24d-45c2-cc7a-51e879cd3176"
      },
      "source": [
        "price = np.array([[12.4, 12.6, 12.7, 12.8, 10000],\n",
        "                  [12.3, 12.5, 12.6, 12.1, 20000],\n",
        "                  [12.5, 12.2, 12.1, 12.4, 15000]])\n",
        "print(price)"
      ],
      "execution_count": null,
      "outputs": [
        {
          "output_type": "stream",
          "text": [
            "[[1.24e+01 1.26e+01 1.27e+01 1.28e+01 1.00e+04]\n",
            " [1.23e+01 1.25e+01 1.26e+01 1.21e+01 2.00e+04]\n",
            " [1.25e+01 1.22e+01 1.21e+01 1.24e+01 1.50e+04]]\n"
          ],
          "name": "stdout"
        }
      ]
    },
    {
      "cell_type": "markdown",
      "metadata": {
        "id": "tjsr9lM8Axx6",
        "colab_type": "text"
      },
      "source": [
        "Suma"
      ]
    },
    {
      "cell_type": "code",
      "metadata": {
        "id": "7usfMTaYAPFr",
        "colab_type": "code",
        "colab": {
          "base_uri": "https://localhost:8080/",
          "height": 34
        },
        "outputId": "59214a34-0c86-47f1-9e68-219d6bfe6329"
      },
      "source": [
        "price.sum() #suma wszystkich elementów w tablicy"
      ],
      "execution_count": null,
      "outputs": [
        {
          "output_type": "execute_result",
          "data": {
            "text/plain": [
              "45149.2"
            ]
          },
          "metadata": {
            "tags": []
          },
          "execution_count": 6
        }
      ]
    },
    {
      "cell_type": "code",
      "metadata": {
        "id": "p8WZoNlSAT_t",
        "colab_type": "code",
        "colab": {
          "base_uri": "https://localhost:8080/",
          "height": 34
        },
        "outputId": "e534e3d0-558f-4237-a6f7-311dbc0a279c"
      },
      "source": [
        "price.sum(axis=0) # suma poszczególnych kolumn"
      ],
      "execution_count": null,
      "outputs": [
        {
          "output_type": "execute_result",
          "data": {
            "text/plain": [
              "array([3.72e+01, 3.73e+01, 3.74e+01, 3.73e+01, 4.50e+04])"
            ]
          },
          "metadata": {
            "tags": []
          },
          "execution_count": 7
        }
      ]
    },
    {
      "cell_type": "code",
      "metadata": {
        "id": "6vr3p9fvAieo",
        "colab_type": "code",
        "colab": {
          "base_uri": "https://localhost:8080/",
          "height": 34
        },
        "outputId": "d7061f94-8e6b-48f4-e1b4-5661654ac2f6"
      },
      "source": [
        "price.sum(axis=1) # suma poszczególnych wiersz"
      ],
      "execution_count": null,
      "outputs": [
        {
          "output_type": "execute_result",
          "data": {
            "text/plain": [
              "array([10050.5, 20049.5, 15049.2])"
            ]
          },
          "metadata": {
            "tags": []
          },
          "execution_count": 8
        }
      ]
    },
    {
      "cell_type": "code",
      "metadata": {
        "id": "SN29R1sSAmbj",
        "colab_type": "code",
        "colab": {
          "base_uri": "https://localhost:8080/",
          "height": 34
        },
        "outputId": "f02fc98a-eb64-4a2b-bbbd-e2c9bf2ccfa1"
      },
      "source": [
        "np.sum(price)"
      ],
      "execution_count": null,
      "outputs": [
        {
          "output_type": "execute_result",
          "data": {
            "text/plain": [
              "45149.2"
            ]
          },
          "metadata": {
            "tags": []
          },
          "execution_count": 9
        }
      ]
    },
    {
      "cell_type": "markdown",
      "metadata": {
        "id": "Svww7GLgA1nr",
        "colab_type": "text"
      },
      "source": [
        "Minimum"
      ]
    },
    {
      "cell_type": "code",
      "metadata": {
        "id": "IyzmwPHhA3qz",
        "colab_type": "code",
        "colab": {
          "base_uri": "https://localhost:8080/",
          "height": 34
        },
        "outputId": "8e9e4752-e38b-4644-a816-f48893cacb88"
      },
      "source": [
        "np.min(price)"
      ],
      "execution_count": null,
      "outputs": [
        {
          "output_type": "execute_result",
          "data": {
            "text/plain": [
              "12.1"
            ]
          },
          "metadata": {
            "tags": []
          },
          "execution_count": 11
        }
      ]
    },
    {
      "cell_type": "code",
      "metadata": {
        "id": "8us-fBmkBEpL",
        "colab_type": "code",
        "colab": {
          "base_uri": "https://localhost:8080/",
          "height": 34
        },
        "outputId": "747cb8b8-2c2b-4594-f856-076a1a758461"
      },
      "source": [
        "np.min(price, axis=0) # minimum po kolumnach"
      ],
      "execution_count": null,
      "outputs": [
        {
          "output_type": "execute_result",
          "data": {
            "text/plain": [
              "array([   12.3,    12.2,    12.1,    12.1, 10000. ])"
            ]
          },
          "metadata": {
            "tags": []
          },
          "execution_count": 12
        }
      ]
    },
    {
      "cell_type": "code",
      "metadata": {
        "id": "KLfLfw7WBJKl",
        "colab_type": "code",
        "colab": {
          "base_uri": "https://localhost:8080/",
          "height": 34
        },
        "outputId": "ac26caca-f3e0-433a-a945-723a5dc2d0e6"
      },
      "source": [
        "np.min(price, axis=1) # minimum po wierszach"
      ],
      "execution_count": null,
      "outputs": [
        {
          "output_type": "execute_result",
          "data": {
            "text/plain": [
              "array([12.4, 12.1, 12.1])"
            ]
          },
          "metadata": {
            "tags": []
          },
          "execution_count": 13
        }
      ]
    },
    {
      "cell_type": "markdown",
      "metadata": {
        "id": "r1nIktKEBUS1",
        "colab_type": "text"
      },
      "source": [
        "Mediana"
      ]
    },
    {
      "cell_type": "code",
      "metadata": {
        "id": "ny8CkHfaBVnw",
        "colab_type": "code",
        "colab": {
          "base_uri": "https://localhost:8080/",
          "height": 34
        },
        "outputId": "48eb7ad0-19cd-42be-c201-4131ebfb0d30"
      },
      "source": [
        "np.median(price)"
      ],
      "execution_count": null,
      "outputs": [
        {
          "output_type": "execute_result",
          "data": {
            "text/plain": [
              "12.5"
            ]
          },
          "metadata": {
            "tags": []
          },
          "execution_count": 14
        }
      ]
    },
    {
      "cell_type": "markdown",
      "metadata": {
        "id": "Kt_UMbqzBeYo",
        "colab_type": "text"
      },
      "source": [
        "Średnia"
      ]
    },
    {
      "cell_type": "code",
      "metadata": {
        "id": "jRjxgXy0BhCV",
        "colab_type": "code",
        "colab": {
          "base_uri": "https://localhost:8080/",
          "height": 52
        },
        "outputId": "c6cd91cb-302c-4929-92a6-931e915edfad"
      },
      "source": [
        "np.mean(price, axis=0)"
      ],
      "execution_count": null,
      "outputs": [
        {
          "output_type": "execute_result",
          "data": {
            "text/plain": [
              "array([1.24000000e+01, 1.24333333e+01, 1.24666667e+01, 1.24333333e+01,\n",
              "       1.50000000e+04])"
            ]
          },
          "metadata": {
            "tags": []
          },
          "execution_count": 15
        }
      ]
    },
    {
      "cell_type": "markdown",
      "metadata": {
        "id": "716xhSwFBo61",
        "colab_type": "text"
      },
      "source": [
        "Odchylenie standartowe"
      ]
    },
    {
      "cell_type": "code",
      "metadata": {
        "id": "qtCRyt8pBq5N",
        "colab_type": "code",
        "colab": {
          "base_uri": "https://localhost:8080/",
          "height": 52
        },
        "outputId": "7b35c363-c528-4168-bf94-e31ef3bb7613"
      },
      "source": [
        "np.std(price, axis=0)"
      ],
      "execution_count": null,
      "outputs": [
        {
          "output_type": "execute_result",
          "data": {
            "text/plain": [
              "array([8.16496581e-02, 1.69967317e-01, 2.62466929e-01, 2.86744176e-01,\n",
              "       4.08248290e+03])"
            ]
          },
          "metadata": {
            "tags": []
          },
          "execution_count": 16
        }
      ]
    },
    {
      "cell_type": "markdown",
      "metadata": {
        "id": "h51sjmwlBwx9",
        "colab_type": "text"
      },
      "source": [
        "Wariancja"
      ]
    },
    {
      "cell_type": "code",
      "metadata": {
        "id": "KVFN0RBNByLR",
        "colab_type": "code",
        "colab": {
          "base_uri": "https://localhost:8080/",
          "height": 52
        },
        "outputId": "0434467a-8c2a-4260-efd2-d629d1eb4032"
      },
      "source": [
        "np.var(price, axis=0)"
      ],
      "execution_count": null,
      "outputs": [
        {
          "output_type": "execute_result",
          "data": {
            "text/plain": [
              "array([6.66666667e-03, 2.88888889e-02, 6.88888889e-02, 8.22222222e-02,\n",
              "       1.66666667e+07])"
            ]
          },
          "metadata": {
            "tags": []
          },
          "execution_count": 17
        }
      ]
    }
  ]
}