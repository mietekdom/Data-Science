{
  "nbformat": 4,
  "nbformat_minor": 0,
  "metadata": {
    "colab": {
      "name": "02_algebra_liniowa.ipynb",
      "provenance": [],
      "collapsed_sections": [],
      "authorship_tag": "ABX9TyOkepstYC11B2Sif7bJl3Jg",
      "include_colab_link": true
    },
    "kernelspec": {
      "name": "python3",
      "display_name": "Python 3"
    }
  },
  "cells": [
    {
      "cell_type": "markdown",
      "metadata": {
        "id": "view-in-github",
        "colab_type": "text"
      },
      "source": [
        "<a href=\"https://colab.research.google.com/github/mietekdom/Data-Science/blob/master/01_knowledge/02_algebra_liniowa.ipynb\" target=\"_parent\"><img src=\"https://colab.research.google.com/assets/colab-badge.svg\" alt=\"Open In Colab\"/></a>"
      ]
    },
    {
      "cell_type": "code",
      "metadata": {
        "id": "nFRgjblC2i-P",
        "colab_type": "code",
        "colab": {}
      },
      "source": [
        "import numpy as np\n"
      ],
      "execution_count": 1,
      "outputs": []
    },
    {
      "cell_type": "markdown",
      "metadata": {
        "id": "iNWByFcI3YWS",
        "colab_type": "text"
      },
      "source": [
        "Długość wektora"
      ]
    },
    {
      "cell_type": "code",
      "metadata": {
        "id": "z6MjUOkL3aVS",
        "colab_type": "code",
        "colab": {
          "base_uri": "https://localhost:8080/",
          "height": 34
        },
        "outputId": "a72aa861-3685-48a5-a04e-5657d0e50b6a"
      },
      "source": [
        "v1 = np.array([-1, 4]) #tworzymy wektor w numpy array\n",
        "v1"
      ],
      "execution_count": 2,
      "outputs": [
        {
          "output_type": "execute_result",
          "data": {
            "text/plain": [
              "array([-1,  4])"
            ]
          },
          "metadata": {
            "tags": []
          },
          "execution_count": 2
        }
      ]
    },
    {
      "cell_type": "code",
      "metadata": {
        "id": "zd-FFFlj3i1F",
        "colab_type": "code",
        "colab": {
          "base_uri": "https://localhost:8080/",
          "height": 34
        },
        "outputId": "f6ef28d8-72d5-4c78-b84b-ac56efde214d"
      },
      "source": [
        "np.linalg.norm(v1) # długość wektora 2D"
      ],
      "execution_count": 3,
      "outputs": [
        {
          "output_type": "execute_result",
          "data": {
            "text/plain": [
              "4.123105625617661"
            ]
          },
          "metadata": {
            "tags": []
          },
          "execution_count": 3
        }
      ]
    },
    {
      "cell_type": "code",
      "metadata": {
        "id": "1Ji1iTC836Ma",
        "colab_type": "code",
        "colab": {
          "base_uri": "https://localhost:8080/",
          "height": 34
        },
        "outputId": "58364c4e-6e5f-4b42-a466-56b3f3e133bd"
      },
      "source": [
        "v2 = np.array([-10, 10, 12])\n",
        "np.linalg.norm(v2) # długość wektora 3D"
      ],
      "execution_count": 6,
      "outputs": [
        {
          "output_type": "execute_result",
          "data": {
            "text/plain": [
              "18.547236990991408"
            ]
          },
          "metadata": {
            "tags": []
          },
          "execution_count": 6
        }
      ]
    },
    {
      "cell_type": "markdown",
      "metadata": {
        "id": "aWYuzInI7Wfc",
        "colab_type": "text"
      },
      "source": [
        "Odlegośc punktów na **płaszczyżnie**"
      ]
    },
    {
      "cell_type": "code",
      "metadata": {
        "id": "8obgR5Ml7ahE",
        "colab_type": "code",
        "colab": {
          "base_uri": "https://localhost:8080/",
          "height": 34
        },
        "outputId": "c1add6fe-158c-451e-87fc-1f1917267c3c"
      },
      "source": [
        "p = np.array([3, 4])\n",
        "q = np.array([5, 6])\n",
        "\n",
        "np.linalg.norm(p - q) "
      ],
      "execution_count": 7,
      "outputs": [
        {
          "output_type": "execute_result",
          "data": {
            "text/plain": [
              "2.8284271247461903"
            ]
          },
          "metadata": {
            "tags": []
          },
          "execution_count": 7
        }
      ]
    },
    {
      "cell_type": "markdown",
      "metadata": {
        "id": "xhVyyjvE76gH",
        "colab_type": "text"
      },
      "source": [
        "Odległość dwóch punktów w przestrzeni"
      ]
    },
    {
      "cell_type": "code",
      "metadata": {
        "id": "c_Rfxdq47_Oi",
        "colab_type": "code",
        "colab": {
          "base_uri": "https://localhost:8080/",
          "height": 34
        },
        "outputId": "020b8f67-57d8-4062-cfc3-4c4191425e7d"
      },
      "source": [
        "p = np.array([3, 4, 1])\n",
        "q = np.array([5, 6, 2])\n",
        "np.linalg.norm(p - q)"
      ],
      "execution_count": 9,
      "outputs": [
        {
          "output_type": "execute_result",
          "data": {
            "text/plain": [
              "3.0"
            ]
          },
          "metadata": {
            "tags": []
          },
          "execution_count": 9
        }
      ]
    },
    {
      "cell_type": "markdown",
      "metadata": {
        "id": "-AYwg40P8NL1",
        "colab_type": "text"
      },
      "source": [
        "Mnożenie macierzy\n",
        "\n"
      ]
    },
    {
      "cell_type": "code",
      "metadata": {
        "id": "D90X6Owt8SPF",
        "colab_type": "code",
        "colab": {}
      },
      "source": [
        ""
      ],
      "execution_count": null,
      "outputs": []
    }
  ]
}