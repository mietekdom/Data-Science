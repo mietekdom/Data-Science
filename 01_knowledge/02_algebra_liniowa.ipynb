{
  "nbformat": 4,
  "nbformat_minor": 0,
  "metadata": {
    "colab": {
      "name": "02_algebra_liniowa.ipynb",
      "provenance": [],
      "collapsed_sections": [],
      "authorship_tag": "ABX9TyMaK/q2ck7qSEtg3US1bsr7",
      "include_colab_link": true
    },
    "kernelspec": {
      "name": "python3",
      "display_name": "Python 3"
    }
  },
  "cells": [
    {
      "cell_type": "markdown",
      "metadata": {
        "id": "view-in-github",
        "colab_type": "text"
      },
      "source": [
        "<a href=\"https://colab.research.google.com/github/mietekdom/Data-Science/blob/master/01_knowledge/02_algebra_liniowa.ipynb\" target=\"_parent\"><img src=\"https://colab.research.google.com/assets/colab-badge.svg\" alt=\"Open In Colab\"/></a>"
      ]
    },
    {
      "cell_type": "code",
      "metadata": {
        "id": "nFRgjblC2i-P",
        "colab_type": "code",
        "colab": {}
      },
      "source": [
        "import numpy as np\n"
      ],
      "execution_count": 1,
      "outputs": []
    },
    {
      "cell_type": "markdown",
      "metadata": {
        "id": "iNWByFcI3YWS",
        "colab_type": "text"
      },
      "source": [
        "Długość wektora"
      ]
    },
    {
      "cell_type": "code",
      "metadata": {
        "id": "z6MjUOkL3aVS",
        "colab_type": "code",
        "colab": {
          "base_uri": "https://localhost:8080/",
          "height": 34
        },
        "outputId": "a72aa861-3685-48a5-a04e-5657d0e50b6a"
      },
      "source": [
        "v1 = np.array([-1, 4]) #tworzymy wektor w numpy array\n",
        "v1"
      ],
      "execution_count": null,
      "outputs": [
        {
          "output_type": "execute_result",
          "data": {
            "text/plain": [
              "array([-1,  4])"
            ]
          },
          "metadata": {
            "tags": []
          },
          "execution_count": 2
        }
      ]
    },
    {
      "cell_type": "code",
      "metadata": {
        "id": "zd-FFFlj3i1F",
        "colab_type": "code",
        "colab": {
          "base_uri": "https://localhost:8080/",
          "height": 34
        },
        "outputId": "f6ef28d8-72d5-4c78-b84b-ac56efde214d"
      },
      "source": [
        "np.linalg.norm(v1) # długość wektora 2D"
      ],
      "execution_count": null,
      "outputs": [
        {
          "output_type": "execute_result",
          "data": {
            "text/plain": [
              "4.123105625617661"
            ]
          },
          "metadata": {
            "tags": []
          },
          "execution_count": 3
        }
      ]
    },
    {
      "cell_type": "code",
      "metadata": {
        "id": "1Ji1iTC836Ma",
        "colab_type": "code",
        "colab": {
          "base_uri": "https://localhost:8080/",
          "height": 34
        },
        "outputId": "58364c4e-6e5f-4b42-a466-56b3f3e133bd"
      },
      "source": [
        "v2 = np.array([-10, 10, 12])\n",
        "np.linalg.norm(v2) # długość wektora 3D"
      ],
      "execution_count": null,
      "outputs": [
        {
          "output_type": "execute_result",
          "data": {
            "text/plain": [
              "18.547236990991408"
            ]
          },
          "metadata": {
            "tags": []
          },
          "execution_count": 6
        }
      ]
    },
    {
      "cell_type": "markdown",
      "metadata": {
        "id": "aWYuzInI7Wfc",
        "colab_type": "text"
      },
      "source": [
        "Odlegośc punktów na **płaszczyżnie**"
      ]
    },
    {
      "cell_type": "code",
      "metadata": {
        "id": "8obgR5Ml7ahE",
        "colab_type": "code",
        "colab": {
          "base_uri": "https://localhost:8080/",
          "height": 34
        },
        "outputId": "c1add6fe-158c-451e-87fc-1f1917267c3c"
      },
      "source": [
        "p = np.array([3, 4])\n",
        "q = np.array([5, 6])\n",
        "\n",
        "np.linalg.norm(p - q) "
      ],
      "execution_count": null,
      "outputs": [
        {
          "output_type": "execute_result",
          "data": {
            "text/plain": [
              "2.8284271247461903"
            ]
          },
          "metadata": {
            "tags": []
          },
          "execution_count": 7
        }
      ]
    },
    {
      "cell_type": "markdown",
      "metadata": {
        "id": "xhVyyjvE76gH",
        "colab_type": "text"
      },
      "source": [
        "Odległość dwóch punktów w przestrzeni"
      ]
    },
    {
      "cell_type": "code",
      "metadata": {
        "id": "c_Rfxdq47_Oi",
        "colab_type": "code",
        "colab": {
          "base_uri": "https://localhost:8080/",
          "height": 34
        },
        "outputId": "020b8f67-57d8-4062-cfc3-4c4191425e7d"
      },
      "source": [
        "p = np.array([3, 4, 1])\n",
        "q = np.array([5, 6, 2])\n",
        "np.linalg.norm(p - q)"
      ],
      "execution_count": null,
      "outputs": [
        {
          "output_type": "execute_result",
          "data": {
            "text/plain": [
              "3.0"
            ]
          },
          "metadata": {
            "tags": []
          },
          "execution_count": 9
        }
      ]
    },
    {
      "cell_type": "markdown",
      "metadata": {
        "id": "-AYwg40P8NL1",
        "colab_type": "text"
      },
      "source": [
        "Mnożenie macierzy\n",
        "\n"
      ]
    },
    {
      "cell_type": "code",
      "metadata": {
        "id": "D90X6Owt8SPF",
        "colab_type": "code",
        "colab": {
          "base_uri": "https://localhost:8080/",
          "height": 85
        },
        "outputId": "56a10399-299f-4c33-d38a-35dedc8aa393"
      },
      "source": [
        "X = np.array([[2, 3], [3, 9]])\n",
        "Y = np.array([[1], [3]])\n",
        "print(X)\n",
        "print(Y)"
      ],
      "execution_count": null,
      "outputs": [
        {
          "output_type": "stream",
          "text": [
            "[[2 3]\n",
            " [3 9]]\n",
            "[[1]\n",
            " [3]]\n"
          ],
          "name": "stdout"
        }
      ]
    },
    {
      "cell_type": "code",
      "metadata": {
        "id": "3tZYiBTX9zae",
        "colab_type": "code",
        "colab": {
          "base_uri": "https://localhost:8080/",
          "height": 51
        },
        "outputId": "83a66c23-ab32-41d9-e542-a9feac4be3bd"
      },
      "source": [
        "Z = np.dot(X, Y)\n",
        "Z"
      ],
      "execution_count": null,
      "outputs": [
        {
          "output_type": "execute_result",
          "data": {
            "text/plain": [
              "array([[11],\n",
              "       [30]])"
            ]
          },
          "metadata": {
            "tags": []
          },
          "execution_count": 14
        }
      ]
    },
    {
      "cell_type": "code",
      "metadata": {
        "id": "KxD8KUVD99p2",
        "colab_type": "code",
        "colab": {
          "base_uri": "https://localhost:8080/",
          "height": 34
        },
        "outputId": "68deb13e-b465-4626-fb36-b4b2c8b8dc7d"
      },
      "source": [
        "Z.shape"
      ],
      "execution_count": null,
      "outputs": [
        {
          "output_type": "execute_result",
          "data": {
            "text/plain": [
              "(2, 1)"
            ]
          },
          "metadata": {
            "tags": []
          },
          "execution_count": 15
        }
      ]
    },
    {
      "cell_type": "code",
      "metadata": {
        "id": "ThgHxS2n-BEr",
        "colab_type": "code",
        "colab": {
          "base_uri": "https://localhost:8080/",
          "height": 119
        },
        "outputId": "0340b23b-6a6b-43e9-e79c-70de486496e0"
      },
      "source": [
        "X = np.array([[2, 3, -1], [3, 9, 2]])\n",
        "Y = np.array([[1, -3, 2], [3, 4, 1], [2, 5, 3]])\n",
        "print(X, '\\n')\n",
        "print(Y)"
      ],
      "execution_count": null,
      "outputs": [
        {
          "output_type": "stream",
          "text": [
            "[[ 2  3 -1]\n",
            " [ 3  9  2]] \n",
            "\n",
            "[[ 1 -3  2]\n",
            " [ 3  4  1]\n",
            " [ 2  5  3]]\n"
          ],
          "name": "stdout"
        }
      ]
    },
    {
      "cell_type": "code",
      "metadata": {
        "id": "tJRmHXmS-jtm",
        "colab_type": "code",
        "colab": {
          "base_uri": "https://localhost:8080/",
          "height": 51
        },
        "outputId": "67472845-b46b-4ecd-f68e-d40867378c38"
      },
      "source": [
        "Z = np.dot(X, Y)\n",
        "Z"
      ],
      "execution_count": null,
      "outputs": [
        {
          "output_type": "execute_result",
          "data": {
            "text/plain": [
              "array([[ 9,  1,  4],\n",
              "       [34, 37, 21]])"
            ]
          },
          "metadata": {
            "tags": []
          },
          "execution_count": 22
        }
      ]
    },
    {
      "cell_type": "markdown",
      "metadata": {
        "id": "wl9rmuYi4-QE",
        "colab_type": "text"
      },
      "source": [
        "Wyznacznik macierzy"
      ]
    },
    {
      "cell_type": "code",
      "metadata": {
        "id": "0QK5e5k55BS9",
        "colab_type": "code",
        "colab": {
          "base_uri": "https://localhost:8080/",
          "height": 34
        },
        "outputId": "d1558eaa-0d40-46a8-b3ef-c053cb9baaf5"
      },
      "source": [
        "A = np.array([[2, 4], [-1, 3]])\n",
        "np.linalg.det(A) # wyznacznik macierzy"
      ],
      "execution_count": 3,
      "outputs": [
        {
          "output_type": "execute_result",
          "data": {
            "text/plain": [
              "9.999999999999998"
            ]
          },
          "metadata": {
            "tags": []
          },
          "execution_count": 3
        }
      ]
    },
    {
      "cell_type": "code",
      "metadata": {
        "id": "xWkcp-nn6KoX",
        "colab_type": "code",
        "colab": {
          "base_uri": "https://localhost:8080/",
          "height": 34
        },
        "outputId": "45f43692-5d53-4140-deae-c385001ab099"
      },
      "source": [
        "A = np.array([[2, 4], [-1, 3]])\n",
        "np.trace(A) #ślad macierzy"
      ],
      "execution_count": 4,
      "outputs": [
        {
          "output_type": "execute_result",
          "data": {
            "text/plain": [
              "5"
            ]
          },
          "metadata": {
            "tags": []
          },
          "execution_count": 4
        }
      ]
    },
    {
      "cell_type": "markdown",
      "metadata": {
        "id": "2lgp0Leq6WQ8",
        "colab_type": "text"
      },
      "source": [
        "Macierz jednostkowa"
      ]
    },
    {
      "cell_type": "code",
      "metadata": {
        "id": "UEVt_tZl6YbQ",
        "colab_type": "code",
        "colab": {
          "base_uri": "https://localhost:8080/",
          "height": 104
        },
        "outputId": "1add85dd-5955-44ee-e1a4-3766fd4f4cc5"
      },
      "source": [
        "np.eye(5, dtype='int')"
      ],
      "execution_count": 5,
      "outputs": [
        {
          "output_type": "execute_result",
          "data": {
            "text/plain": [
              "array([[1, 0, 0, 0, 0],\n",
              "       [0, 1, 0, 0, 0],\n",
              "       [0, 0, 1, 0, 0],\n",
              "       [0, 0, 0, 1, 0],\n",
              "       [0, 0, 0, 0, 1]])"
            ]
          },
          "metadata": {
            "tags": []
          },
          "execution_count": 5
        }
      ]
    },
    {
      "cell_type": "markdown",
      "metadata": {
        "id": "9BwtjVld6nD6",
        "colab_type": "text"
      },
      "source": [
        "Macierz odwrotna"
      ]
    },
    {
      "cell_type": "code",
      "metadata": {
        "id": "pVo5AQZG6pHZ",
        "colab_type": "code",
        "colab": {
          "base_uri": "https://localhost:8080/",
          "height": 52
        },
        "outputId": "03b7daa8-ca5c-4709-db22-b9244a7d5a2a"
      },
      "source": [
        "C = np.linalg.inv(A)\n",
        "C"
      ],
      "execution_count": 9,
      "outputs": [
        {
          "output_type": "execute_result",
          "data": {
            "text/plain": [
              "array([[ 0.3, -0.4],\n",
              "       [ 0.1,  0.2]])"
            ]
          },
          "metadata": {
            "tags": []
          },
          "execution_count": 9
        }
      ]
    },
    {
      "cell_type": "markdown",
      "metadata": {
        "id": "X0NC9Bqm7K-f",
        "colab_type": "text"
      },
      "source": [
        "Macierz transponowana"
      ]
    },
    {
      "cell_type": "code",
      "metadata": {
        "id": "tdC8QGLN7Nm2",
        "colab_type": "code",
        "colab": {
          "base_uri": "https://localhost:8080/",
          "height": 52
        },
        "outputId": "f29efe77-7df7-43a6-8291-40aacf133b01"
      },
      "source": [
        "A"
      ],
      "execution_count": 10,
      "outputs": [
        {
          "output_type": "execute_result",
          "data": {
            "text/plain": [
              "array([[ 2,  4],\n",
              "       [-1,  3]])"
            ]
          },
          "metadata": {
            "tags": []
          },
          "execution_count": 10
        }
      ]
    },
    {
      "cell_type": "code",
      "metadata": {
        "id": "SW2QOsGE7Wos",
        "colab_type": "code",
        "colab": {
          "base_uri": "https://localhost:8080/",
          "height": 52
        },
        "outputId": "73e4a9a5-8dd6-4edf-c276-30531912c6e7"
      },
      "source": [
        "np.transpose(A)"
      ],
      "execution_count": 11,
      "outputs": [
        {
          "output_type": "execute_result",
          "data": {
            "text/plain": [
              "array([[ 2, -1],\n",
              "       [ 4,  3]])"
            ]
          },
          "metadata": {
            "tags": []
          },
          "execution_count": 11
        }
      ]
    },
    {
      "cell_type": "code",
      "metadata": {
        "id": "WFdl0KjV7onm",
        "colab_type": "code",
        "colab": {}
      },
      "source": [
        "Rozwiązywanie układu równań"
      ],
      "execution_count": null,
      "outputs": []
    },
    {
      "cell_type": "code",
      "metadata": {
        "id": "SKt_Zsfr8BAC",
        "colab_type": "code",
        "colab": {
          "base_uri": "https://localhost:8080/",
          "height": 52
        },
        "outputId": "63667bdd-178e-48d8-a539-dea5ad2e5a16"
      },
      "source": [
        "A = np.array([[2, 4], [1, -1]])\n",
        "A"
      ],
      "execution_count": 12,
      "outputs": [
        {
          "output_type": "execute_result",
          "data": {
            "text/plain": [
              "array([[ 2,  4],\n",
              "       [ 1, -1]])"
            ]
          },
          "metadata": {
            "tags": []
          },
          "execution_count": 12
        }
      ]
    },
    {
      "cell_type": "code",
      "metadata": {
        "id": "qOGWaLRL9amI",
        "colab_type": "code",
        "colab": {
          "base_uri": "https://localhost:8080/",
          "height": 52
        },
        "outputId": "c5cc005b-43ee-40d8-86b9-4ab430fb25b0"
      },
      "source": [
        "B = np.array([[10], [-1]])\n",
        "B"
      ],
      "execution_count": 13,
      "outputs": [
        {
          "output_type": "execute_result",
          "data": {
            "text/plain": [
              "array([[10],\n",
              "       [-1]])"
            ]
          },
          "metadata": {
            "tags": []
          },
          "execution_count": 13
        }
      ]
    },
    {
      "cell_type": "code",
      "metadata": {
        "id": "5DskQNv39kSc",
        "colab_type": "code",
        "colab": {
          "base_uri": "https://localhost:8080/",
          "height": 52
        },
        "outputId": "297bb9e8-5a8e-4771-e285-06f0bed4a64e"
      },
      "source": [
        "A_inv = np.linalg.inv(A)\n",
        "X = np.dot(A_inv, B)\n",
        "X"
      ],
      "execution_count": 14,
      "outputs": [
        {
          "output_type": "execute_result",
          "data": {
            "text/plain": [
              "array([[1.],\n",
              "       [2.]])"
            ]
          },
          "metadata": {
            "tags": []
          },
          "execution_count": 14
        }
      ]
    },
    {
      "cell_type": "code",
      "metadata": {
        "id": "YZlb1yBZ-ZAO",
        "colab_type": "code",
        "colab": {
          "base_uri": "https://localhost:8080/",
          "height": 34
        },
        "outputId": "b0ab6498-1610-4760-cf3f-9d283fd1762b"
      },
      "source": [
        "X.shape"
      ],
      "execution_count": 15,
      "outputs": [
        {
          "output_type": "execute_result",
          "data": {
            "text/plain": [
              "(2, 1)"
            ]
          },
          "metadata": {
            "tags": []
          },
          "execution_count": 15
        }
      ]
    }
  ]
}